{
 "cells": [
  {
   "attachments": {},
   "cell_type": "markdown",
   "id": "3c67aa93",
   "metadata": {},
   "source": [
    "Họ tên: Võ Thành Nam\n",
    "\n",
    "STT: 10"
   ]
  },
  {
   "attachments": {},
   "cell_type": "markdown",
   "id": "14501e03",
   "metadata": {},
   "source": [
    "# Một cách tiếp cận sử dụng LSTM\n",
    "\n",
    "## 1. Đọc dữ liệu"
   ]
  },
  {
   "cell_type": "code",
   "execution_count": 1,
   "id": "8fd29f32",
   "metadata": {},
   "outputs": [
    {
     "name": "stderr",
     "output_type": "stream",
     "text": [
      "c:\\Users\\Nam\\miniconda3\\envs\\torch-coding\\lib\\site-packages\\tqdm\\auto.py:21: TqdmWarning: IProgress not found. Please update jupyter and ipywidgets. See https://ipywidgets.readthedocs.io/en/stable/user_install.html\n",
      "  from .autonotebook import tqdm as notebook_tqdm\n",
      "[nltk_data] Downloading package stopwords to\n",
      "[nltk_data]     C:\\Users\\Nam\\AppData\\Roaming\\nltk_data...\n",
      "[nltk_data]   Package stopwords is already up-to-date!\n",
      "[nltk_data] Downloading package wordnet to\n",
      "[nltk_data]     C:\\Users\\Nam\\AppData\\Roaming\\nltk_data...\n",
      "[nltk_data]   Package wordnet is already up-to-date!\n"
     ]
    },
    {
     "data": {
      "text/plain": [
       "True"
      ]
     },
     "execution_count": 1,
     "metadata": {},
     "output_type": "execute_result"
    }
   ],
   "source": [
    "import numpy as np\n",
    "import pandas as pd\n",
    "import matplotlib.pyplot as plt\n",
    "import re\n",
    "from collections import Counter\n",
    "from sklearn.model_selection import train_test_split\n",
    "from sklearn.metrics import classification_report\n",
    "import time\n",
    "\n",
    "import torch\n",
    "import torch.nn as nn \n",
    "from torchinfo import summary\n",
    "from torch.utils.data import TensorDataset, DataLoader\n",
    "from nltk.corpus import stopwords\n",
    "import nltk\n",
    "nltk.download('stopwords')\n",
    "nltk.download('wordnet')"
   ]
  },
  {
   "attachments": {},
   "cell_type": "markdown",
   "id": "6eaef60e",
   "metadata": {},
   "source": [
    "Chuyển nhãn `Positive` thành `1` và `Negative` thành `0`."
   ]
  },
  {
   "cell_type": "code",
   "execution_count": 2,
   "id": "52a462cc",
   "metadata": {},
   "outputs": [
    {
     "data": {
      "text/html": [
       "<div>\n",
       "<style scoped>\n",
       "    .dataframe tbody tr th:only-of-type {\n",
       "        vertical-align: middle;\n",
       "    }\n",
       "\n",
       "    .dataframe tbody tr th {\n",
       "        vertical-align: top;\n",
       "    }\n",
       "\n",
       "    .dataframe thead th {\n",
       "        text-align: right;\n",
       "    }\n",
       "</style>\n",
       "<table border=\"1\" class=\"dataframe\">\n",
       "  <thead>\n",
       "    <tr style=\"text-align: right;\">\n",
       "      <th></th>\n",
       "      <th>Review</th>\n",
       "      <th>Sentiment</th>\n",
       "    </tr>\n",
       "  </thead>\n",
       "  <tbody>\n",
       "    <tr>\n",
       "      <th>0</th>\n",
       "      <td>in tim burton's `sleepy hollow' , there is a m...</td>\n",
       "      <td>1</td>\n",
       "    </tr>\n",
       "    <tr>\n",
       "      <th>1</th>\n",
       "      <td>i read the new yorker magazine and i enjoy som...</td>\n",
       "      <td>0</td>\n",
       "    </tr>\n",
       "    <tr>\n",
       "      <th>2</th>\n",
       "      <td>\" jack frost , \" is one of those dumb , corny...</td>\n",
       "      <td>0</td>\n",
       "    </tr>\n",
       "    <tr>\n",
       "      <th>3</th>\n",
       "      <td>\" some houses are born bad , \" goes the haunt...</td>\n",
       "      <td>0</td>\n",
       "    </tr>\n",
       "    <tr>\n",
       "      <th>4</th>\n",
       "      <td>director david fincher has such an eye for det...</td>\n",
       "      <td>1</td>\n",
       "    </tr>\n",
       "    <tr>\n",
       "      <th>...</th>\n",
       "      <td>...</td>\n",
       "      <td>...</td>\n",
       "    </tr>\n",
       "    <tr>\n",
       "      <th>1595</th>\n",
       "      <td>\" the fighting sullivans \" contains a major p...</td>\n",
       "      <td>1</td>\n",
       "    </tr>\n",
       "    <tr>\n",
       "      <th>1596</th>\n",
       "      <td>once again , the battle is dreamworks versus d...</td>\n",
       "      <td>1</td>\n",
       "    </tr>\n",
       "    <tr>\n",
       "      <th>1597</th>\n",
       "      <td>by the time dennis quaid , the ostensible star...</td>\n",
       "      <td>0</td>\n",
       "    </tr>\n",
       "    <tr>\n",
       "      <th>1598</th>\n",
       "      <td>from dusk till dawn ( director/editor : robert...</td>\n",
       "      <td>0</td>\n",
       "    </tr>\n",
       "    <tr>\n",
       "      <th>1599</th>\n",
       "      <td>to put it bluntly , ed wood would have been pr...</td>\n",
       "      <td>0</td>\n",
       "    </tr>\n",
       "  </tbody>\n",
       "</table>\n",
       "<p>1600 rows × 2 columns</p>\n",
       "</div>"
      ],
      "text/plain": [
       "                                                 Review  Sentiment\n",
       "0     in tim burton's `sleepy hollow' , there is a m...          1\n",
       "1     i read the new yorker magazine and i enjoy som...          0\n",
       "2      \" jack frost , \" is one of those dumb , corny...          0\n",
       "3      \" some houses are born bad , \" goes the haunt...          0\n",
       "4     director david fincher has such an eye for det...          1\n",
       "...                                                 ...        ...\n",
       "1595   \" the fighting sullivans \" contains a major p...          1\n",
       "1596  once again , the battle is dreamworks versus d...          1\n",
       "1597  by the time dennis quaid , the ostensible star...          0\n",
       "1598  from dusk till dawn ( director/editor : robert...          0\n",
       "1599  to put it bluntly , ed wood would have been pr...          0\n",
       "\n",
       "[1600 rows x 2 columns]"
      ]
     },
     "execution_count": 2,
     "metadata": {},
     "output_type": "execute_result"
    }
   ],
   "source": [
    "df = pd.read_csv('VDT2023_MR_train.csv')\n",
    "df.replace(to_replace={'Positive':1, 'Negative':0}, inplace=True)\n",
    "df"
   ]
  },
  {
   "cell_type": "code",
   "execution_count": 3,
   "id": "f02c40f3",
   "metadata": {},
   "outputs": [
    {
     "data": {
      "image/png": "[encoded data removed]",
      "text/plain": [
       "<Figure size 640x480 with 1 Axes>"
      ]
     },
     "metadata": {},
     "output_type": "display_data"
    }
   ],
   "source": [
    "df.Sentiment.value_counts().plot(kind='pie', autopct='%.2f');"
   ]
  },
  {
   "attachments": {},
   "cell_type": "markdown",
   "id": "ea2cd182",
   "metadata": {},
   "source": [
    "## Tiền xử lí\n",
    "\n",
    "Vì dữ liệu nhỏ nên sẽ không có tập val"
   ]
  },
  {
   "cell_type": "code",
   "execution_count": 4,
   "id": "a11dadac",
   "metadata": {},
   "outputs": [],
   "source": [
    "X_df = df.drop('Sentiment', axis=1)\n",
    "y_df = df['Sentiment']\n",
    "x_train, x_test, y_train, y_test = train_test_split(X_df, \n",
    "                                                    y_df, \n",
    "                                                    test_size=0.2,\n",
    "                                                    stratify = y_df, \n",
    "                                                    random_state=42)"
   ]
  },
  {
   "cell_type": "code",
   "execution_count": 5,
   "id": "98da05b0",
   "metadata": {},
   "outputs": [],
   "source": [
    "lemmatizer = nltk.stem.WordNetLemmatizer() \n",
    "def preprocess(s):\n",
    "    s = re.sub(r'(https?:\\/\\/)?([\\da-z\\.-]+)\\.([a-z\\.]{2,6})', '', s)\n",
    "    s = re.sub(r'[^\\w\\s]',' ', s)\n",
    "    s = re.sub(r'\\d', ' ', s)\n",
    "    s = re.sub(r'\\s+', ' ',s)\n",
    "    s = lemmatizer.lemmatize(s)\n",
    "    return s"
   ]
  },
  {
   "cell_type": "code",
   "execution_count": 6,
   "id": "da37ead5",
   "metadata": {},
   "outputs": [],
   "source": [
    "stopwords = stopwords.words('english')"
   ]
  },
  {
   "attachments": {},
   "cell_type": "markdown",
   "id": "a325f54f",
   "metadata": {},
   "source": [
    "Tokenize các văn bản và padding. Chiều dài tối đa là 1500."
   ]
  },
  {
   "cell_type": "code",
   "execution_count": 7,
   "id": "0f65c73d",
   "metadata": {},
   "outputs": [],
   "source": [
    "def tokenizer(x_train, y_train, x_val, y_val, stop_words):\n",
    "    word_list = list()\n",
    "    for sequence in x_train:\n",
    "        for word in sequence.lower().split():\n",
    "            word = preprocess(word)\n",
    "            if word not in stop_words and word !='':\n",
    "                word_list.append(word)\n",
    "    \n",
    "    corpus = Counter(word_list)\n",
    "    corpus_ = sorted(corpus, key=corpus.get, reverse=True)\n",
    "    onehot_dict = {w:i+1 for i,w in enumerate(corpus_)}\n",
    "    \n",
    "    final_list_train, final_list_test = list(), list()\n",
    "    for sequence in x_train:\n",
    "        final_list_train.append([onehot_dict[preprocess(word)] for word in sequence.lower().split()\n",
    "                                if preprocess(word) in onehot_dict.keys()])\n",
    "    for sequence in x_val:\n",
    "        final_list_test.append([onehot_dict[preprocess(word)] for word in sequence.lower().split()\n",
    "                              if preprocess(word) in onehot_dict.keys()])\n",
    "    return (np.array(final_list_train, dtype='object'), \n",
    "            np.array(y_train), \n",
    "            np.array(final_list_test, dtype='object'), \n",
    "            np.array(y_val), \n",
    "            onehot_dict)"
   ]
  },
  {
   "cell_type": "code",
   "execution_count": 8,
   "id": "f0e00e2d",
   "metadata": {},
   "outputs": [],
   "source": [
    "x_train, y_train, x_test, y_test, vocab = tokenizer(x_train.Review.to_list(), \n",
    "                                             y_train, \n",
    "                                             x_test.Review.to_list(), \n",
    "                                             y_test, \n",
    "                                             stopwords)"
   ]
  },
  {
   "cell_type": "code",
   "execution_count": 9,
   "id": "97c5e0d6",
   "metadata": {},
   "outputs": [
    {
     "name": "stdout",
     "output_type": "stream",
     "text": [
      "Length of vocab: 36305\n"
     ]
    }
   ],
   "source": [
    "print(f'Length of vocab: {len(vocab)}')"
   ]
  },
  {
   "cell_type": "code",
   "execution_count": 10,
   "id": "f7cd1377",
   "metadata": {},
   "outputs": [
    {
     "data": {
      "image/png": "[encoded data removed]",
      "text/plain": [
       "<Figure size 640x480 with 1 Axes>"
      ]
     },
     "metadata": {},
     "output_type": "display_data"
    },
    {
     "data": {
      "text/plain": [
       "count    1280.000000\n",
       "mean      463.592969\n",
       "std       202.719931\n",
       "min         8.000000\n",
       "25%       325.750000\n",
       "50%       435.000000\n",
       "75%       558.000000\n",
       "max      1724.000000\n",
       "dtype: float64"
      ]
     },
     "execution_count": 10,
     "metadata": {},
     "output_type": "execute_result"
    }
   ],
   "source": [
    "rev_len = [len(i) for i in x_train]\n",
    "pd.Series(rev_len).hist()\n",
    "plt.show()\n",
    "pd.Series(rev_len).describe()"
   ]
  },
  {
   "cell_type": "code",
   "execution_count": 11,
   "id": "13c55a8b",
   "metadata": {},
   "outputs": [],
   "source": [
    "MAX_LEN = 1500\n",
    "BATCH_SIZE = 32\n",
    "n_layers = 1\n",
    "vocab_size = len(vocab) + 1\n",
    "output_dims = 1\n",
    "hidden_dims = 64\n",
    "embedding_dims = 128"
   ]
  },
  {
   "cell_type": "code",
   "execution_count": 12,
   "id": "7e5de4ae",
   "metadata": {},
   "outputs": [],
   "source": [
    "def padding(X, max_len):\n",
    "    features = np.zeros((len(X), max_len),dtype=int)\n",
    "    for i, sequence in enumerate(X):\n",
    "        features[i, -len(sequence):] = np.array(sequence)[:max_len]\n",
    "    return features\n",
    "x_train_padding = padding(x_train, MAX_LEN)\n",
    "x_test_padding = padding(x_test, MAX_LEN)"
   ]
  },
  {
   "cell_type": "code",
   "execution_count": 13,
   "id": "b1dbb85d",
   "metadata": {},
   "outputs": [],
   "source": [
    "train_data = TensorDataset(torch.from_numpy(x_train_padding), torch.from_numpy(y_train))\n",
    "test_data = TensorDataset(torch.from_numpy(x_test_padding), torch.from_numpy(y_test))\n",
    "\n",
    "train_dataloader = DataLoader(train_data, batch_size = BATCH_SIZE)\n",
    "test_dataloader = DataLoader(test_data, batch_size = BATCH_SIZE)"
   ]
  },
  {
   "cell_type": "code",
   "execution_count": 14,
   "id": "80c7d355",
   "metadata": {},
   "outputs": [
    {
     "data": {
      "text/plain": [
       "320"
      ]
     },
     "execution_count": 14,
     "metadata": {},
     "output_type": "execute_result"
    }
   ],
   "source": [
    "len(test_dataloader.dataset)"
   ]
  },
  {
   "cell_type": "code",
   "execution_count": 15,
   "id": "3b33d1e9",
   "metadata": {},
   "outputs": [
    {
     "name": "stdout",
     "output_type": "stream",
     "text": [
      "GPU available\n"
     ]
    }
   ],
   "source": [
    "cuda = torch.cuda.is_available()\n",
    "if cuda:\n",
    "    device = torch.device('cuda')\n",
    "    print('GPU available')\n",
    "else:\n",
    "    device = torch.device('cpu')\n",
    "    print('CPU available')"
   ]
  },
  {
   "attachments": {},
   "cell_type": "markdown",
   "id": "e429ad51",
   "metadata": {},
   "source": [
    "## Mô hình LSTM bằng PyTorch"
   ]
  },
  {
   "cell_type": "code",
   "execution_count": 16,
   "id": "e3b66792",
   "metadata": {},
   "outputs": [],
   "source": [
    "class LSTM(nn.Module):\n",
    "    def __init__(self, n_layers, vocab_size, hidden_dims, embedding_dims, dropout_rate = 0.5):\n",
    "        super(LSTM, self).__init__()\n",
    "        self.output_dims = output_dims\n",
    "        self.hidden_dims = hidden_dims\n",
    "        self.n_layers = n_layers\n",
    "        self.vocab_size = vocab_size\n",
    "        \n",
    "        self.embedding = nn.Embedding(self.vocab_size, embedding_dims)\n",
    "        self.lstm = nn.LSTM(input_size = embedding_dims,\n",
    "                           hidden_size = self.hidden_dims,\n",
    "                           num_layers = self.n_layers,\n",
    "                           batch_first = True)\n",
    "        self.dropout = nn.Dropout(dropout_rate)\n",
    "        self.fc = nn.Linear(self.hidden_dims, self.output_dims)\n",
    "        self.sigmoid = nn.Sigmoid()\n",
    "        \n",
    "    def forward(self, x):\n",
    "        batch_size = x.size(0)\n",
    "        embedding = self.embedding(x)\n",
    "        lstm_out, hidden_state = self.lstm(embedding)\n",
    "        lstm_out = lstm_out.contiguous().view(-1, self.hidden_dims)\n",
    "        out = self.dropout(lstm_out)\n",
    "        out = self.fc(out)\n",
    "        out = self.sigmoid(out)\n",
    "        out = out.view(batch_size, -1)\n",
    "        out = out[:, -1]\n",
    "        return out, hidden_state"
   ]
  },
  {
   "cell_type": "code",
   "execution_count": 17,
   "id": "873c6dbb",
   "metadata": {},
   "outputs": [
    {
     "data": {
      "text/plain": [
       "LSTM(\n",
       "  (embedding): Embedding(36306, 128)\n",
       "  (lstm): LSTM(128, 64, batch_first=True)\n",
       "  (dropout): Dropout(p=0.5, inplace=False)\n",
       "  (fc): Linear(in_features=64, out_features=1, bias=True)\n",
       "  (sigmoid): Sigmoid()\n",
       ")"
      ]
     },
     "execution_count": 17,
     "metadata": {},
     "output_type": "execute_result"
    }
   ],
   "source": [
    "model = LSTM(n_layers, vocab_size, hidden_dims, embedding_dims)\n",
    "model.to(device)"
   ]
  },
  {
   "cell_type": "code",
   "execution_count": 18,
   "id": "c265dc40",
   "metadata": {},
   "outputs": [
    {
     "data": {
      "text/plain": [
       "=================================================================\n",
       "Layer (type:depth-idx)                   Param #\n",
       "=================================================================\n",
       "LSTM                                     --\n",
       "├─Embedding: 1-1                         4,647,168\n",
       "├─LSTM: 1-2                              49,664\n",
       "├─Dropout: 1-3                           --\n",
       "├─Linear: 1-4                            65\n",
       "├─Sigmoid: 1-5                           --\n",
       "=================================================================\n",
       "Total params: 4,696,897\n",
       "Trainable params: 4,696,897\n",
       "Non-trainable params: 0\n",
       "================================================================="
      ]
     },
     "execution_count": 18,
     "metadata": {},
     "output_type": "execute_result"
    }
   ],
   "source": [
    "summary(model)"
   ]
  },
  {
   "cell_type": "code",
   "execution_count": 19,
   "id": "e31191f2",
   "metadata": {},
   "outputs": [],
   "source": [
    "learning_rate = 0.0001\n",
    "loss_fn = nn.BCELoss()\n",
    "optimizer = torch.optim.Adam(model.parameters(), lr = learning_rate)\n",
    "def accuracy(pred, label):\n",
    "    pred = torch.round(pred.squeeze())\n",
    "    return torch.sum(pred==label.squeeze()).item()"
   ]
  },
  {
   "cell_type": "code",
   "execution_count": 20,
   "id": "0e2fba52",
   "metadata": {
    "scrolled": true
   },
   "outputs": [
    {
     "name": "stdout",
     "output_type": "stream",
     "text": [
      "[INFO] EPOCHS: 1/30\n",
      "Train loss: 0.700276, Test loss: 0.694225\n",
      "Train acc: 0.4945, Test acc: 0.5031\n",
      "\n",
      "[INFO] EPOCHS: 2/30\n",
      "Train loss: 0.692510, Test loss: 0.693553\n",
      "Train acc: 0.5141, Test acc: 0.5062\n",
      "\n",
      "[INFO] EPOCHS: 3/30\n",
      "Train loss: 0.692985, Test loss: 0.693237\n",
      "Train acc: 0.5258, Test acc: 0.5062\n",
      "\n",
      "[INFO] EPOCHS: 4/30\n",
      "Train loss: 0.691689, Test loss: 0.692884\n",
      "Train acc: 0.5227, Test acc: 0.5156\n",
      "\n",
      "[INFO] EPOCHS: 5/30\n",
      "Train loss: 0.691559, Test loss: 0.692657\n",
      "Train acc: 0.5328, Test acc: 0.5344\n",
      "\n",
      "[INFO] EPOCHS: 6/30\n",
      "Train loss: 0.690411, Test loss: 0.692361\n",
      "Train acc: 0.5547, Test acc: 0.5281\n",
      "\n",
      "[INFO] EPOCHS: 7/30\n",
      "Train loss: 0.690553, Test loss: 0.692094\n",
      "Train acc: 0.5195, Test acc: 0.5344\n",
      "\n",
      "[INFO] EPOCHS: 8/30\n",
      "Train loss: 0.688539, Test loss: 0.691916\n",
      "Train acc: 0.5305, Test acc: 0.5406\n",
      "\n",
      "[INFO] EPOCHS: 9/30\n",
      "Train loss: 0.687588, Test loss: 0.691541\n",
      "Train acc: 0.5461, Test acc: 0.5188\n",
      "\n",
      "[INFO] EPOCHS: 10/30\n",
      "Train loss: 0.685294, Test loss: 0.691320\n",
      "Train acc: 0.5711, Test acc: 0.5125\n",
      "\n",
      "[INFO] EPOCHS: 11/30\n",
      "Train loss: 0.686490, Test loss: 0.690767\n",
      "Train acc: 0.5477, Test acc: 0.5250\n",
      "\n",
      "[INFO] EPOCHS: 12/30\n",
      "Train loss: 0.681492, Test loss: 0.690311\n",
      "Train acc: 0.5813, Test acc: 0.5281\n",
      "\n",
      "[INFO] EPOCHS: 13/30\n",
      "Train loss: 0.678751, Test loss: 0.690026\n",
      "Train acc: 0.5977, Test acc: 0.5156\n",
      "\n",
      "[INFO] EPOCHS: 14/30\n",
      "Train loss: 0.679098, Test loss: 0.689469\n",
      "Train acc: 0.5852, Test acc: 0.5188\n",
      "\n",
      "[INFO] EPOCHS: 15/30\n",
      "Train loss: 0.675302, Test loss: 0.688908\n",
      "Train acc: 0.6133, Test acc: 0.5125\n",
      "\n",
      "[INFO] EPOCHS: 16/30\n",
      "Train loss: 0.675747, Test loss: 0.688500\n",
      "Train acc: 0.5977, Test acc: 0.5156\n",
      "\n",
      "[INFO] EPOCHS: 17/30\n",
      "Train loss: 0.667889, Test loss: 0.688124\n",
      "Train acc: 0.6312, Test acc: 0.5281\n",
      "\n",
      "[INFO] EPOCHS: 18/30\n",
      "Train loss: 0.662676, Test loss: 0.687346\n",
      "Train acc: 0.6586, Test acc: 0.5312\n",
      "\n",
      "[INFO] EPOCHS: 19/30\n",
      "Train loss: 0.657193, Test loss: 0.686908\n",
      "Train acc: 0.6500, Test acc: 0.5312\n",
      "\n",
      "[INFO] EPOCHS: 20/30\n",
      "Train loss: 0.651486, Test loss: 0.686602\n",
      "Train acc: 0.6656, Test acc: 0.5531\n",
      "\n",
      "[INFO] EPOCHS: 21/30\n",
      "Train loss: 0.649879, Test loss: 0.686846\n",
      "Train acc: 0.6703, Test acc: 0.5594\n",
      "\n",
      "[INFO] EPOCHS: 22/30\n",
      "Train loss: 0.639678, Test loss: 0.687883\n",
      "Train acc: 0.6687, Test acc: 0.5500\n",
      "\n",
      "[INFO] EPOCHS: 23/30\n",
      "Train loss: 0.632742, Test loss: 0.690034\n",
      "Train acc: 0.6984, Test acc: 0.5531\n",
      "\n",
      "[INFO] EPOCHS: 24/30\n",
      "Train loss: 0.622218, Test loss: 0.689313\n",
      "Train acc: 0.6984, Test acc: 0.5469\n",
      "\n",
      "[INFO] EPOCHS: 25/30\n",
      "Train loss: 0.609249, Test loss: 0.691420\n",
      "Train acc: 0.7117, Test acc: 0.5531\n",
      "\n",
      "[INFO] EPOCHS: 26/30\n",
      "Train loss: 0.594706, Test loss: 0.694738\n",
      "Train acc: 0.7297, Test acc: 0.5563\n",
      "\n",
      "[INFO] EPOCHS: 27/30\n",
      "Train loss: 0.578295, Test loss: 0.702024\n",
      "Train acc: 0.7391, Test acc: 0.5531\n",
      "\n",
      "[INFO] EPOCHS: 28/30\n",
      "Train loss: 0.553158, Test loss: 0.712947\n",
      "Train acc: 0.7531, Test acc: 0.5469\n",
      "\n",
      "[INFO] EPOCHS: 29/30\n",
      "Train loss: 0.527843, Test loss: 0.725559\n",
      "Train acc: 0.7742, Test acc: 0.5719\n",
      "\n",
      "[INFO] EPOCHS: 30/30\n",
      "Train loss: 0.499538, Test loss: 0.745343\n",
      "Train acc: 0.7844, Test acc: 0.5563\n",
      "\n",
      "[INFO] total time taken to train the model: 18.38s\n"
     ]
    }
   ],
   "source": [
    "clip = 5\n",
    "EPOCHS = 30\n",
    "valid_loss_min = np.Inf\n",
    "\n",
    "history = {\n",
    "    'train_loss': [],\n",
    "    'test_loss': [],\n",
    "    'train_acc': [],\n",
    "    'test_acc': []\n",
    "}\n",
    "train_step = len(train_dataloader.dataset) // BATCH_SIZE\n",
    "test_step = len(test_dataloader.dataset) // BATCH_SIZE\n",
    "\n",
    "start_time = time.time()\n",
    "for epoch in range(EPOCHS):\n",
    "    train_loss = list()\n",
    "    train_acc = 0\n",
    "    model.train()\n",
    "    # hidden_state = model.init_hidden(BATCH_SIZE)\n",
    "    for inputs, labels in train_dataloader:\n",
    "        inputs, labels = inputs.to(device), labels.to(device)\n",
    "        # hidden_state = tuple([each.data for each in hidden_state])\n",
    "        # print(inputs.shape, hidden_state)\n",
    "        \n",
    "        model.zero_grad()\n",
    "        output, hidden_state = model(inputs)#, hidden_state)\n",
    "        \n",
    "        loss = loss_fn(output.squeeze(), labels.float())\n",
    "        loss.backward()\n",
    "        \n",
    "        train_loss.append(loss.item())\n",
    "        \n",
    "        acc = accuracy(output, labels)\n",
    "        train_acc += acc\n",
    "        \n",
    "        nn.utils.clip_grad_norm_(model.parameters(), clip)\n",
    "        optimizer.step()\n",
    "        \n",
    "    # test_h = model.init_hidden(BATCH_SIZE)\n",
    "    test_loss = list()\n",
    "    test_acc = 0\n",
    "    with torch.no_grad():\n",
    "        model.eval()\n",
    "        for inputs, labels in test_dataloader:\n",
    "            # test_h = tuple([each.data for each in test_h])\n",
    "\n",
    "            inputs, labels = inputs.to(device), labels.to(device)\n",
    "            output, test_h = model(inputs)\n",
    "\n",
    "            loss = loss_fn(output.squeeze(), labels.float())\n",
    "            test_loss.append(loss.item())\n",
    "\n",
    "            acc = accuracy(output, labels)\n",
    "            test_acc += acc\n",
    "    \n",
    "    epoch_train_loss = np.mean(train_loss)\n",
    "    epoch_test_loss = np.mean(test_loss)\n",
    "    epoch_train_acc = train_acc/len(train_dataloader.dataset)#(train_step * BATCH_SIZE)\n",
    "    epoch_test_acc = test_acc/len(test_dataloader.dataset)#(test_step * BATCH_SIZE)\n",
    "    history['train_loss'].append(epoch_train_loss)\n",
    "    history['test_loss'].append(epoch_test_loss)\n",
    "    history['train_acc'].append(epoch_train_acc)\n",
    "    history['test_acc'].append(epoch_test_acc)\n",
    "    \n",
    "    print(f'[INFO] EPOCHS: {epoch + 1}/{EPOCHS}')\n",
    "    print('Train loss: {:.6f}, Test loss: {:.6f}'.format(epoch_train_loss,epoch_test_loss))\n",
    "    print('Train acc: {:.4f}, Test acc: {:.4f}\\n'.format(epoch_train_acc,epoch_test_acc))    \n",
    "\n",
    "end_time = time.time()\n",
    "print('[INFO] total time taken to train the model: {:.2f}s'.format(end_time - start_time))"
   ]
  },
  {
   "cell_type": "code",
   "execution_count": 21,
   "id": "0eaf3cd9",
   "metadata": {},
   "outputs": [
    {
     "data": {
      "image/png": "[encoded data removed]",
      "text/plain": [
       "<Figure size 640x480 with 1 Axes>"
      ]
     },
     "metadata": {},
     "output_type": "display_data"
    }
   ],
   "source": [
    "plt.style.use(\"ggplot\")\n",
    "plt.figure()\n",
    "plt.plot(history[\"train_loss\"], label=\"train_loss\")\n",
    "plt.plot(history[\"test_loss\"], label=\"test_loss\")\n",
    "plt.plot(history[\"train_acc\"], label=\"train_acc\")\n",
    "plt.plot(history[\"test_acc\"], label=\"test_acc\")\n",
    "plt.title(\"Training Loss and Accuracy on Dataset\")\n",
    "plt.xlabel(\"Epoch #\")\n",
    "plt.ylabel(\"Loss/Accuracy\")\n",
    "plt.legend(loc=\"lower left\");"
   ]
  },
  {
   "cell_type": "code",
   "execution_count": 22,
   "id": "21cb8ca1",
   "metadata": {},
   "outputs": [
    {
     "name": "stdout",
     "output_type": "stream",
     "text": [
      "              precision    recall  f1-score   support\n",
      "\n",
      "           0       0.58      0.45      0.50       161\n",
      "           1       0.54      0.67      0.60       159\n",
      "\n",
      "    accuracy                           0.56       320\n",
      "   macro avg       0.56      0.56      0.55       320\n",
      "weighted avg       0.56      0.56      0.55       320\n",
      "\n"
     ]
    }
   ],
   "source": [
    "def evaluate(test_dl, model):\n",
    "    out = torch.Tensor(())\n",
    "    with torch.no_grad():\n",
    "        model.eval()\n",
    "        for inputs, labels in test_dl:\n",
    "            inputs, labels = inputs.to(device), labels.to(device)\n",
    "            output,_ = model(inputs)\n",
    "            out = torch.cat((out,output.detach().to('cpu')),dim=0)\n",
    "    out  = np.round(out)\n",
    "    print(classification_report(y_test, out))\n",
    "evaluate(test_dataloader,model)"
   ]
  },
  {
   "cell_type": "code",
   "execution_count": 23,
   "id": "e8e9bf1b",
   "metadata": {},
   "outputs": [],
   "source": [
    "def predict_text(text):\n",
    "    word_seq = np.array([vocab[preprocess(word)] for word in text.split() \n",
    "                                if preprocess(word) in vocab.keys()])\n",
    "    word_seq = np.expand_dims(word_seq,axis=0)\n",
    "    pad = torch.from_numpy(padding(word_seq,500))\n",
    "    inputs = pad.to(device)\n",
    "    output, h = model(inputs)\n",
    "    return(output.item())"
   ]
  },
  {
   "cell_type": "code",
   "execution_count": 24,
   "id": "82c80aed",
   "metadata": {},
   "outputs": [
    {
     "name": "stdout",
     "output_type": "stream",
     "text": [
      "Predict:  0.593357503414154\n",
      "Actual:  1\n"
     ]
    }
   ],
   "source": [
    "i = 0\n",
    "print('Predict: ',predict_text(df.Review[i]))\n",
    "print('Actual: ',df.Sentiment[i])"
   ]
  }
 ],
 "metadata": {
  "kernelspec": {
   "display_name": "torch-coding",
   "language": "python",
   "name": "python3"
  },
  "language_info": {
   "codemirror_mode": {
    "name": "ipython",
    "version": 3
   },
   "file_extension": ".py",
   "mimetype": "text/x-python",
   "name": "python",
   "nbconvert_exporter": "python",
   "pygments_lexer": "ipython3",
   "version": "3.8.8"
  },
  "vscode": {
   "interpreter": {
    "hash": "f32163b82a662581a3dafce2f6a41641fba0985df67d8841d2528a4e8787a7b6"
   }
  }
 },
 "nbformat": 4,
 "nbformat_minor": 5
}
