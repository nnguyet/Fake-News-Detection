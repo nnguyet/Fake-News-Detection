{
  "cells": [
    {
      "cell_type": "markdown",
      "metadata": {
        "id": "00VFkB1qfUPv"
      },
      "source": [
        "## Thư viện"
      ]
    },
    {
      "cell_type": "code",
      "execution_count": 3,
      "metadata": {
        "id": "i7e85P-iOiOC"
      },
      "outputs": [],
      "source": [
        "import matplotlib.pyplot as plt\n",
        "import pandas as pd\n",
        "import numpy as np\n",
        "import re\n",
        "\n",
        "from sklearn.feature_extraction.text import TfidfVectorizer\n",
        "from sklearn.base import BaseEstimator, TransformerMixin\n",
        "from sklearn.neural_network import MLPClassifier\n",
        "from sklearn.pipeline import Pipeline\n",
        "from sklearn.model_selection import train_test_split\n",
        "from sklearn import set_config\n",
        "from sklearn.tree import DecisionTreeClassifier\n",
        "from sklearn.metrics import accuracy_score\n",
        "set_config(display='diagram')"
      ]
    },
    {
      "cell_type": "code",
      "execution_count": 4,
      "metadata": {
        "id": "OKIC69ERKJXS"
      },
      "outputs": [],
      "source": [
        "# pyvi: https://pypi.org/project/pyvi/0.0.7.5/ - Vietnamese tokenizing tool\n",
        "# !pip install pyvi\n",
        "from pyvi import ViTokenizer, ViPosTagger"
      ]
    },
    {
      "cell_type": "markdown",
      "metadata": {
        "id": "lC3jSCDpeKid"
      },
      "source": [
        "## Dữ liệu\n",
        "\n",
        "Nguồn dữ liệu: VNFD Dataset - [vn_news_223_tdlfr.csv](https://github.com/thanhhocse96/vfnd-vietnamese-fake-news-datasets/blob/master/CSV/vn_news_223_tdlfr.csv)\n",
        "\n",
        "Mô tả dữ liệu: [Mô tả tập VNFD](https://github.com/thanhhocse96/vfnd-vietnamese-fake-news-datasets/tree/master/CSV)"
      ]
    },
    {
      "cell_type": "code",
      "execution_count": 5,
      "metadata": {
        "colab": {
          "base_uri": "https://localhost:8080/",
          "height": 417
        },
        "id": "Qsc_NwtYPRMd",
        "outputId": "5e1a19da-b468-40d0-eb51-00c66405c1d4"
      },
      "outputs": [
        {
          "data": {
            "text/html": [
              "<div>\n",
              "<style scoped>\n",
              "    .dataframe tbody tr th:only-of-type {\n",
              "        vertical-align: middle;\n",
              "    }\n",
              "\n",
              "    .dataframe tbody tr th {\n",
              "        vertical-align: top;\n",
              "    }\n",
              "\n",
              "    .dataframe thead th {\n",
              "        text-align: right;\n",
              "    }\n",
              "</style>\n",
              "<table border=\"1\" class=\"dataframe\">\n",
              "  <thead>\n",
              "    <tr style=\"text-align: right;\">\n",
              "      <th></th>\n",
              "      <th>text</th>\n",
              "      <th>label</th>\n",
              "    </tr>\n",
              "  </thead>\n",
              "  <tbody>\n",
              "    <tr>\n",
              "      <th>0</th>\n",
              "      <td>Thủ tướng Abe cúi đầu xin lỗi vì hành động phi...</td>\n",
              "      <td>1</td>\n",
              "    </tr>\n",
              "    <tr>\n",
              "      <th>1</th>\n",
              "      <td>Thủ tướng Nhật cúi đầu xin lỗi vì tinh thần ph...</td>\n",
              "      <td>1</td>\n",
              "    </tr>\n",
              "    <tr>\n",
              "      <th>2</th>\n",
              "      <td>Choáng! Cơ trưởng đeo khăn quàng quẩy banh nóc...</td>\n",
              "      <td>1</td>\n",
              "    </tr>\n",
              "    <tr>\n",
              "      <th>3</th>\n",
              "      <td>Chưa bao giờ nhạc Kpop lại dễ hát đến thế!!!\\n...</td>\n",
              "      <td>1</td>\n",
              "    </tr>\n",
              "    <tr>\n",
              "      <th>4</th>\n",
              "      <td>Đại học Hutech sẽ áp dụng cải cách \"Tiếq Việt\"...</td>\n",
              "      <td>1</td>\n",
              "    </tr>\n",
              "    <tr>\n",
              "      <th>...</th>\n",
              "      <td>...</td>\n",
              "      <td>...</td>\n",
              "    </tr>\n",
              "    <tr>\n",
              "      <th>218</th>\n",
              "      <td>“Siêu máy bay” A350 sẽ chở CĐV Việt Nam đi Mal...</td>\n",
              "      <td>0</td>\n",
              "    </tr>\n",
              "    <tr>\n",
              "      <th>219</th>\n",
              "      <td>Thưởng 20.000 USD cho đội tuyển cờ vua Việt Na...</td>\n",
              "      <td>0</td>\n",
              "    </tr>\n",
              "    <tr>\n",
              "      <th>220</th>\n",
              "      <td>Trường Sơn giành HCV tại giải cờ vua đồng đội ...</td>\n",
              "      <td>0</td>\n",
              "    </tr>\n",
              "    <tr>\n",
              "      <th>221</th>\n",
              "      <td>Chuyện về chàng sinh viên Luật - Kiện tướng Lê...</td>\n",
              "      <td>0</td>\n",
              "    </tr>\n",
              "    <tr>\n",
              "      <th>222</th>\n",
              "      <td>Tiền đạo Malaysia: “Tôi đã có cách vượt qua hà...</td>\n",
              "      <td>0</td>\n",
              "    </tr>\n",
              "  </tbody>\n",
              "</table>\n",
              "<p>223 rows × 2 columns</p>\n",
              "</div>"
            ],
            "text/plain": [
              "                                                  text  label\n",
              "0    Thủ tướng Abe cúi đầu xin lỗi vì hành động phi...      1\n",
              "1    Thủ tướng Nhật cúi đầu xin lỗi vì tinh thần ph...      1\n",
              "2    Choáng! Cơ trưởng đeo khăn quàng quẩy banh nóc...      1\n",
              "3    Chưa bao giờ nhạc Kpop lại dễ hát đến thế!!!\\n...      1\n",
              "4    Đại học Hutech sẽ áp dụng cải cách \"Tiếq Việt\"...      1\n",
              "..                                                 ...    ...\n",
              "218  “Siêu máy bay” A350 sẽ chở CĐV Việt Nam đi Mal...      0\n",
              "219  Thưởng 20.000 USD cho đội tuyển cờ vua Việt Na...      0\n",
              "220  Trường Sơn giành HCV tại giải cờ vua đồng đội ...      0\n",
              "221  Chuyện về chàng sinh viên Luật - Kiện tướng Lê...      0\n",
              "222  Tiền đạo Malaysia: “Tôi đã có cách vượt qua hà...      0\n",
              "\n",
              "[223 rows x 2 columns]"
            ]
          },
          "execution_count": 5,
          "metadata": {},
          "output_type": "execute_result"
        }
      ],
      "source": [
        "df = pd.read_csv(\"data/vn_news_223_tdlfr.csv\")\n",
        "df = df.drop(columns=['domain'])\n",
        "df"
      ]
    },
    {
      "cell_type": "markdown",
      "metadata": {
        "id": "ygwRbJJpL4_2"
      },
      "source": [
        "Chúng ta sẽ chia dữ liệu thành 2 tập train và validation, với tỉ lệ 80/20.\n",
        "\n",
        "Từ giờ, mọi bước liên quan đến tiền xử lý, trích xuất đặc trưng, train mô hình học máy đều chỉ thực hiện trên tập train. Tập validation sẽ được để dành cho việc kiểm tra lại mô hình."
      ]
    },
    {
      "cell_type": "code",
      "execution_count": 6,
      "metadata": {
        "id": "Z2FN3voKiAWV"
      },
      "outputs": [],
      "source": [
        "X_df = df.drop(\"label\", axis=1)\n",
        "Y_sr = df[\"label\"]\n",
        "\n",
        "train_X_df, val_X_df, train_Y_sr, val_Y_sr = train_test_split(\n",
        "    X_df, Y_sr, \n",
        "    test_size = 0.2, \n",
        "    stratify = Y_sr, \n",
        "    # random_state = 0\n",
        ")"
      ]
    },
    {
      "cell_type": "markdown",
      "metadata": {
        "id": "ZRwuSPyFeEwR"
      },
      "source": [
        "## Tiền xử lý văn bản tiếng Việt"
      ]
    },
    {
      "cell_type": "markdown",
      "metadata": {
        "id": "2ymy-5OJMkST"
      },
      "source": [
        "Stopwords: https://github.com/stopwords/vietnamese-stopwords/blob/master/vietnamese-stopwords.txt\n",
        "\n",
        "Tokenizer: Pyvi - Vietnamese tokenizing tool - https://pypi.org/project/pyvi/0.0.7.5/\n",
        "\n",
        "\n",
        "Quá trình xử lý 1 đoạn text được thực hiện như sau:\n",
        "\n",
        "* Tokenize\n",
        "* Remove punctuations\n",
        "* Remove special chars\n",
        "* Remove links\n",
        "* Lowercase\n",
        "* Remove stopwords"
      ]
    },
    {
      "cell_type": "code",
      "execution_count": 7,
      "metadata": {
        "id": "Rgljv-JBPBnw"
      },
      "outputs": [],
      "source": [
        "with open(\"stopwords/vietnamese-stopwords.txt\",encoding='utf-8') as file:\n",
        "    stopwords = file.readlines()\n",
        "    stopwords = [word.rstrip() for word in stopwords]\n",
        "\n",
        "punctuations = '''!()-–=[]{}“”‘’;:'\"|\\,<>./?@#$%^&*_~'''\n",
        "\n",
        "special_chars = ['\\n', '\\t']\n",
        "\n",
        "regex = re.compile(\n",
        "        r'^(?:http|ftp)s?://' # http:// or https://\n",
        "        r'(?:(?:[A-Z0-9](?:[A-Z0-9-]{0,61}[A-Z0-9])?\\.)+(?:[A-Z]{2,6}\\.?|[A-Z0-9-]{2,}\\.?)|' # domain\n",
        "        r'localhost|' # localhost\n",
        "        r'\\d{1,3}\\.\\d{1,3}\\.\\d{1,3}\\.\\d{1,3})' # ip\n",
        "        r'(?::\\d+)?' # port\n",
        "        r'(?:/?|[/?]\\S+)$', re.IGNORECASE)   "
      ]
    },
    {
      "cell_type": "code",
      "execution_count": 8,
      "metadata": {
        "id": "FpfY8ebTKTrj"
      },
      "outputs": [],
      "source": [
        "def tokenize(text):\n",
        "    tokenized_text = ViPosTagger.postagging(ViTokenizer.tokenize(text))\n",
        "    return tokenized_text[0]\n",
        "\n",
        "def is_punctuation(token):\n",
        "    global punctuations\n",
        "    return True if token in punctuations else False\n",
        "\n",
        "def is_special_chars(token):\n",
        "    global special_chars\n",
        "    return True if token in special_chars else False\n",
        "\n",
        "def is_link(token):\n",
        "    return re.match(regex, token) is not None\n",
        "\n",
        "def lowercase(token):\n",
        "    return token.lower()\n",
        "\n",
        "def is_stopword(token):\n",
        "    global stopwords\n",
        "    return True if token in stopwords else False\n",
        "\n",
        "# ===============================================================\n",
        "# Process:\n",
        "# Text -> Tokenize (pyvi) -> Remove punctuations -> Remove special chars \n",
        "# -> Remove links -> Lowercase -> Remove stopwords -> Final Tokens\n",
        "# ===============================================================\n",
        "def vietnamese_text_preprocessing(text):\n",
        "    tokens = tokenize(text)\n",
        "    tokens = [token for token in tokens if not is_punctuation(token)]\n",
        "    tokens = [token for token in tokens if not is_special_chars(token)]\n",
        "    tokens = [token for token in tokens if not is_link(token)]\n",
        "    tokens = [lowercase(token) for token in tokens]\n",
        "    tokens = [token for token in tokens if not is_stopword(token)]\n",
        "    # return tokens\n",
        "    return tokens"
      ]
    },
    {
      "cell_type": "markdown",
      "metadata": {
        "id": "KGaMSfa5N1FU"
      },
      "source": [
        "Ví dụ sử dụng:"
      ]
    },
    {
      "cell_type": "code",
      "execution_count": 9,
      "metadata": {
        "colab": {
          "base_uri": "https://localhost:8080/"
        },
        "id": "khKIj6EIN0Ux",
        "outputId": "4c49017d-a510-42cd-ea49-e3accb223464"
      },
      "outputs": [
        {
          "name": "stdout",
          "output_type": "stream",
          "text": [
            "['trải', '25', 'hoạt_động', 'khoa', 'công_nghệ', 'thông_tin', 'cntt', 'phát_triển', 'vững_chắc', 'chính_phủ', 'bảo_trợ', 'trở_thành', 'khoa', 'cntt', 'đầu', 'ngành', 'hệ_thống', 'giáo_dục', 'đại_học', 'việt_nam']\n"
          ]
        }
      ],
      "source": [
        "# Trích 1 đoạn từ https://www.fit.hcmus.edu.vn/\n",
        "demo_text = 'Trải qua hơn 25 năm hoạt động, Khoa Công nghệ Thông tin (CNTT) đã phát triển vững chắc và được Chính phủ bảo trợ để trở thành một trong những khoa CNTT đầu ngành trong hệ thống giáo dục đại học của Việt Nam.'\n",
        "\n",
        "demo_text_to_tokens = vietnamese_text_preprocessing(demo_text)\n",
        "print(demo_text_to_tokens)"
      ]
    },
    {
      "cell_type": "markdown",
      "metadata": {
        "id": "vAXiICVfFl5e"
      },
      "source": [
        "## Xây dựng mô hình máy học: MLPClassifier"
      ]
    },
    {
      "cell_type": "markdown",
      "metadata": {
        "id": "UK_Snuj7G5DB"
      },
      "source": [
        "#### Xây dựng pipeline\n",
        "\n",
        "Pipeline: \n",
        "* **PreprocessAndFeaturesExtract**: Tiền xử lý văn bản và trích xuất đặc trưng\n",
        "  * **Tiền xử lý văn bản**: Đã được cài đặt ở phần trên (hàm `vietnamese_text_preprocessing`)\n",
        "  * **Trích xuất đặc trưng**: Văn bản -> Ma trận đặc trưng TF-IDF (`sklearn.feature_extraction.text.TfidfVectorizer` - https://scikit-learn.org/stable/modules/generated/sklearn.feature_extraction.text.TfidfVectorizer.html)\n",
        "* **Mô hình phân lớp mạng neural MLPClassifier** (`sklearn.neural_network.MLPClassifier` - https://scikit-learn.org/stable/modules/generated/sklearn.neural_network.MLPClassifier.html)"
      ]
    },
    {
      "cell_type": "code",
      "execution_count": 10,
      "metadata": {
        "id": "EVnVUazCOPXM"
      },
      "outputs": [],
      "source": [
        "class PreprocessAndFeaturesExtract(BaseEstimator, TransformerMixin):\n",
        "    def __init__(self):\n",
        "        # print(\"> PreprocessAndFeaturesExtract > INIT\")\n",
        "        self.trained_tokens = []\n",
        "\n",
        "    # ===============================================================\n",
        "    # Mỗi lần train chỉ gọi 1 lần fit\n",
        "    # Mỗi lần fit thì sẽ tạo 1 list trained_tokens, bao gồm những tokens/đặc trưng đã được train\n",
        "    # ===============================================================\n",
        "    def fit(self, X_df, y=None):\n",
        "\n",
        "        # Return a list of preprocessed_texts\n",
        "        preprocessed_texts = []\n",
        "        for index, row in X_df.iterrows():\n",
        "            tokens = vietnamese_text_preprocessing(row['text'])\n",
        "            preprocessed_texts.append(' '.join(tokens))\n",
        "        preprocessed_texts = np.array(preprocessed_texts)\n",
        "\n",
        "        # preprocessed_texts -> features\n",
        "        tv = TfidfVectorizer(min_df = 0.0, max_df = 1.0, use_idf = True)\n",
        "        tv_matrix = tv.fit_transform(preprocessed_texts)\n",
        "        tv_matrix = tv_matrix.toarray()\n",
        "#         df_features = pd.DataFrame(np.round(tv_matrix, 2), columns = tv.get_feature_names_out())\n",
        "        df_features = pd.DataFrame(np.round(tv_matrix, 2), columns = tv.get_feature_names())\n",
        "\n",
        "        self.trained_tokens = df_features.columns.values\n",
        "\n",
        "        # print(f\"> PreprocessAndFeaturesExtract > FIT > X_df: {X_df.shape} > df_features: {df_features.shape}\")\n",
        "        # print(f\"self.trained_tokens: {self.trained_tokens}\")\n",
        "\n",
        "        return self\n",
        "\n",
        "    # ===============================================================\n",
        "    # Khá giống phương thức fit (ở bước tiền xử lý, và trích xuất đặc trưng), tuy nhiên:\n",
        "    # fit:       Gọi 1 lần duy nhất mỗi lần train\n",
        "    # transform: Được gọi nhiều lần, và có thể áp dụng với nhiều X_df khác nhau (để tính score hay predict chẳng hạn),\n",
        "    #            dựa trên cái model đã được train trước đó bằng fit\n",
        "    # ===============================================================\n",
        "    # fit tạo mới self.trained_tokens, transform thì không\n",
        "    # ===============================================================\n",
        "    # transform được cài đặt để trả về những đặc trưng ĐÃ được học,\n",
        "    # những đặc trưng chưa học thì sẽ bỏ qua\n",
        "    # ===============================================================\n",
        "    def transform(self, X_df, y=None):\n",
        "\n",
        "        # Return a list of preprocessed_texts\n",
        "        preprocessed_texts = []\n",
        "        for index, row in X_df.iterrows():\n",
        "            tokens = vietnamese_text_preprocessing(row['text'])\n",
        "            preprocessed_texts.append(' '.join(tokens))\n",
        "        preprocessed_texts = np.array(preprocessed_texts)\n",
        "\n",
        "        # Features Extraction\n",
        "        # preprocessed_texts -> features\n",
        "        # TF-IDF Model\n",
        "        tv = TfidfVectorizer(min_df = 0.0, max_df = 1.0, use_idf = True)\n",
        "        tv_matrix = tv.fit_transform(preprocessed_texts)\n",
        "        tv_matrix = tv_matrix.toarray()\n",
        "#         vocab = tv.get_feature_names_out()\n",
        "        vocab = tv.get_feature_names()\n",
        "        temp_df_features = pd.DataFrame(np.round(tv_matrix, 2), columns=vocab)\n",
        "        n_rows = temp_df_features.shape[0]\n",
        "        df_features = pd.DataFrame()\n",
        "\n",
        "        for trained_token in self.trained_tokens:\n",
        "            if trained_token in vocab:\n",
        "                df_features[trained_token] = temp_df_features[trained_token]\n",
        "            else:\n",
        "                df_features[trained_token] = [0.000]*n_rows\n",
        "\n",
        "        # print(f\"\\n> PreprocessAndFeaturesExtract > TRANSFORM > X_df: {X_df.shape} > df_features: {df_features.shape}\")\n",
        "\n",
        "        return df_features\n",
        "\n",
        "# Predict function\n",
        "# Input: A string\n",
        "# Output: Label (0 - non fake news, 1 - fake news)\n",
        "def mlp_predict(text):\n",
        "    mlp_pd = pd.DataFrame()\n",
        "    mlp_pd[\"text\"] = [text]\n",
        "    pred_result = pipeline_mlp.predict(mlp_pd)[0]\n",
        "    return pred_result"
      ]
    },
    {
      "cell_type": "code",
      "execution_count": 11,
      "metadata": {
        "colab": {
          "base_uri": "https://localhost:8080/",
          "height": 126
        },
        "id": "UygWu9YGZBcY",
        "outputId": "ae419d7c-6835-42a1-ca1e-7bbae16ca292"
      },
      "outputs": [
        {
          "data": {
            "text/html": [
              "<style>#sk-161202f3-2bf9-4bcc-a1d2-3d3ce07103e9 {color: black;background-color: white;}#sk-161202f3-2bf9-4bcc-a1d2-3d3ce07103e9 pre{padding: 0;}#sk-161202f3-2bf9-4bcc-a1d2-3d3ce07103e9 div.sk-toggleable {background-color: white;}#sk-161202f3-2bf9-4bcc-a1d2-3d3ce07103e9 label.sk-toggleable__label {cursor: pointer;display: block;width: 100%;margin-bottom: 0;padding: 0.2em 0.3em;box-sizing: border-box;text-align: center;}#sk-161202f3-2bf9-4bcc-a1d2-3d3ce07103e9 div.sk-toggleable__content {max-height: 0;max-width: 0;overflow: hidden;text-align: left;background-color: #f0f8ff;}#sk-161202f3-2bf9-4bcc-a1d2-3d3ce07103e9 div.sk-toggleable__content pre {margin: 0.2em;color: black;border-radius: 0.25em;background-color: #f0f8ff;}#sk-161202f3-2bf9-4bcc-a1d2-3d3ce07103e9 input.sk-toggleable__control:checked~div.sk-toggleable__content {max-height: 200px;max-width: 100%;overflow: auto;}#sk-161202f3-2bf9-4bcc-a1d2-3d3ce07103e9 div.sk-estimator input.sk-toggleable__control:checked~label.sk-toggleable__label {background-color: #d4ebff;}#sk-161202f3-2bf9-4bcc-a1d2-3d3ce07103e9 div.sk-label input.sk-toggleable__control:checked~label.sk-toggleable__label {background-color: #d4ebff;}#sk-161202f3-2bf9-4bcc-a1d2-3d3ce07103e9 input.sk-hidden--visually {border: 0;clip: rect(1px 1px 1px 1px);clip: rect(1px, 1px, 1px, 1px);height: 1px;margin: -1px;overflow: hidden;padding: 0;position: absolute;width: 1px;}#sk-161202f3-2bf9-4bcc-a1d2-3d3ce07103e9 div.sk-estimator {font-family: monospace;background-color: #f0f8ff;margin: 0.25em 0.25em;border: 1px dotted black;border-radius: 0.25em;box-sizing: border-box;}#sk-161202f3-2bf9-4bcc-a1d2-3d3ce07103e9 div.sk-estimator:hover {background-color: #d4ebff;}#sk-161202f3-2bf9-4bcc-a1d2-3d3ce07103e9 div.sk-parallel-item::after {content: \"\";width: 100%;border-bottom: 1px solid gray;flex-grow: 1;}#sk-161202f3-2bf9-4bcc-a1d2-3d3ce07103e9 div.sk-label:hover label.sk-toggleable__label {background-color: #d4ebff;}#sk-161202f3-2bf9-4bcc-a1d2-3d3ce07103e9 div.sk-serial::before {content: \"\";position: absolute;border-left: 1px solid gray;box-sizing: border-box;top: 2em;bottom: 0;left: 50%;}#sk-161202f3-2bf9-4bcc-a1d2-3d3ce07103e9 div.sk-serial {display: flex;flex-direction: column;align-items: center;background-color: white;}#sk-161202f3-2bf9-4bcc-a1d2-3d3ce07103e9 div.sk-item {z-index: 1;}#sk-161202f3-2bf9-4bcc-a1d2-3d3ce07103e9 div.sk-parallel {display: flex;align-items: stretch;justify-content: center;background-color: white;}#sk-161202f3-2bf9-4bcc-a1d2-3d3ce07103e9 div.sk-parallel-item {display: flex;flex-direction: column;position: relative;background-color: white;}#sk-161202f3-2bf9-4bcc-a1d2-3d3ce07103e9 div.sk-parallel-item:first-child::after {align-self: flex-end;width: 50%;}#sk-161202f3-2bf9-4bcc-a1d2-3d3ce07103e9 div.sk-parallel-item:last-child::after {align-self: flex-start;width: 50%;}#sk-161202f3-2bf9-4bcc-a1d2-3d3ce07103e9 div.sk-parallel-item:only-child::after {width: 0;}#sk-161202f3-2bf9-4bcc-a1d2-3d3ce07103e9 div.sk-dashed-wrapped {border: 1px dashed gray;margin: 0.2em;box-sizing: border-box;padding-bottom: 0.1em;background-color: white;position: relative;}#sk-161202f3-2bf9-4bcc-a1d2-3d3ce07103e9 div.sk-label label {font-family: monospace;font-weight: bold;background-color: white;display: inline-block;line-height: 1.2em;}#sk-161202f3-2bf9-4bcc-a1d2-3d3ce07103e9 div.sk-label-container {position: relative;z-index: 2;text-align: center;}#sk-161202f3-2bf9-4bcc-a1d2-3d3ce07103e9 div.sk-container {display: inline-block;position: relative;}</style><div id=\"sk-161202f3-2bf9-4bcc-a1d2-3d3ce07103e9\" class\"sk-top-container\"><div class=\"sk-container\"><div class=\"sk-item sk-dashed-wrapped\"><div class=\"sk-label-container\"><div class=\"sk-label sk-toggleable\"><input class=\"sk-toggleable__control sk-hidden--visually\" id=\"21b23758-b15f-46f4-aa57-0a9a2c7cab0c\" type=\"checkbox\" ><label class=\"sk-toggleable__label\" for=\"21b23758-b15f-46f4-aa57-0a9a2c7cab0c\">Pipeline</label><div class=\"sk-toggleable__content\"><pre>Pipeline(steps=[('vnpreprocess', PreprocessAndFeaturesExtract()),\n",
              "                ('mlpclassifier',\n",
              "                 MLPClassifier(hidden_layer_sizes=50, max_iter=10000,\n",
              "                               random_state=0, solver='lbfgs'))])</pre></div></div></div><div class=\"sk-serial\"><div class=\"sk-item\"><div class=\"sk-estimator sk-toggleable\"><input class=\"sk-toggleable__control sk-hidden--visually\" id=\"215f81be-d56e-4e40-ad2b-7b917235f9f7\" type=\"checkbox\" ><label class=\"sk-toggleable__label\" for=\"215f81be-d56e-4e40-ad2b-7b917235f9f7\">PreprocessAndFeaturesExtract</label><div class=\"sk-toggleable__content\"><pre>PreprocessAndFeaturesExtract()</pre></div></div></div><div class=\"sk-item\"><div class=\"sk-estimator sk-toggleable\"><input class=\"sk-toggleable__control sk-hidden--visually\" id=\"241e0407-5d8c-4819-b0f4-79133ee7e02e\" type=\"checkbox\" ><label class=\"sk-toggleable__label\" for=\"241e0407-5d8c-4819-b0f4-79133ee7e02e\">MLPClassifier</label><div class=\"sk-toggleable__content\"><pre>MLPClassifier(hidden_layer_sizes=50, max_iter=10000, random_state=0,\n",
              "              solver='lbfgs')</pre></div></div></div></div></div></div></div>"
            ],
            "text/plain": [
              "Pipeline(steps=[('vnpreprocess', PreprocessAndFeaturesExtract()),\n",
              "                ('mlpclassifier',\n",
              "                 MLPClassifier(hidden_layer_sizes=50, max_iter=10000,\n",
              "                               random_state=0, solver='lbfgs'))])"
            ]
          },
          "execution_count": 11,
          "metadata": {},
          "output_type": "execute_result"
        }
      ],
      "source": [
        "# MLPClassifier\n",
        "mlp_classifier = MLPClassifier(\n",
        "    hidden_layer_sizes=(50),\n",
        "    activation='relu',\n",
        "    solver='lbfgs',\n",
        "    random_state=0,\n",
        "    max_iter=10000\n",
        ")\n",
        "\n",
        "# Pipeline: PreprocessAndFeaturesExtract -> MLPClassifier\n",
        "pipeline_mlp = Pipeline(\n",
        "    steps=[\n",
        "           (\"vnpreprocess\", PreprocessAndFeaturesExtract()),\n",
        "           (\"mlpclassifier\", mlp_classifier)\n",
        "           ]\n",
        ")\n",
        "pipeline_mlp"
      ]
    },
    {
      "cell_type": "markdown",
      "metadata": {
        "id": "K-Dxt3MVQ5aQ"
      },
      "source": [
        "#### Train\n",
        "\n",
        "Tiến hành huấn luyện mô hình trên tập train"
      ]
    },
    {
      "cell_type": "code",
      "execution_count": 12,
      "metadata": {
        "colab": {
          "base_uri": "https://localhost:8080/"
        },
        "id": "0no_DNhzbsqR",
        "outputId": "3340eb45-cfe6-4caf-c79e-3be6f44d232d"
      },
      "outputs": [
        {
          "name": "stdout",
          "output_type": "stream",
          "text": [
            "> Train completed\n"
          ]
        }
      ],
      "source": [
        "pipeline_mlp.fit(train_X_df, train_Y_sr)\n",
        "print(\"> Train completed\")"
      ]
    },
    {
      "cell_type": "markdown",
      "metadata": {
        "id": "nRnlrIqARBI0"
      },
      "source": [
        "#### Score\n",
        "\n",
        "Tính accuracy của mô hình, sử dụng lần lượt tập train và tập validation."
      ]
    },
    {
      "cell_type": "code",
      "execution_count": 13,
      "metadata": {
        "colab": {
          "base_uri": "https://localhost:8080/"
        },
        "id": "SpqE_JWqRDp8",
        "outputId": "3784835d-1f96-418e-80a5-4e22f61443dc"
      },
      "outputs": [
        {
          "name": "stdout",
          "output_type": "stream",
          "text": [
            "Train Accuracy = 1.0\n",
            "Validation Accuracy = 0.8666666666666667\n"
          ]
        }
      ],
      "source": [
        "train_acc = pipeline_mlp.score(train_X_df, train_Y_sr)\n",
        "print(f\"Train Accuracy = {train_acc}\")\n",
        "\n",
        "val_acc = pipeline_mlp.score(val_X_df, val_Y_sr)\n",
        "print(f\"Validation Accuracy = {val_acc}\")"
      ]
    },
    {
      "cell_type": "markdown",
      "metadata": {
        "id": "U_6Gyu2gSTBf"
      },
      "source": [
        "#### Predict (Demo)\n",
        "\n",
        "Dự đoán label của văn bản mới, với label: \n",
        "* 0 - non fake news\n",
        "* 1 - fake news\n",
        "\n",
        "Ở đây chúng ta sẽ demo 2 đoạn văn bản được lấy ngẫu nhiên từ 2 bài báo của 2 trang web là kenh14.vn và thanhnien.vn. \n",
        "\n",
        "Việc chọn 2 bài báo hoàn toàn ngẫu nhiên và không có chủ đích muốn nói rằng trang nào chứa fake news hay không. Kết quả mọi output đều chỉ là dự đoán."
      ]
    },
    {
      "cell_type": "code",
      "execution_count": 14,
      "metadata": {
        "colab": {
          "base_uri": "https://localhost:8080/"
        },
        "id": "BLWAFrowSWO1",
        "outputId": "f57d0cf6-72b4-489c-d42f-e377ea0f7f49"
      },
      "outputs": [
        {
          "name": "stdout",
          "output_type": "stream",
          "text": [
            "Text Input: Vào đúng dịp Cá tháng tư (01/4), trang fanpage của Kim Soo Hyun Việt Nam bất ngờ đăng tải thông tin cho biết chàng \"Cụ\" 400 tuổi của Vì sao đưa anh tới có thể sẽ có mặt tại Việt Nam vào ngày 22/4 tới đây. Không chỉ vậy, theo thông tin được hé lộ, Kim Soo Hyun còn tổ chức cả chương trình fan meeting để gặp gỡ và giao lưu với fan Việt.\n",
            "Predict Label: 1\n",
            "Text Input: Cùng ngày, Sở Y tế TP.HCM cho biết đã ban hành cập nhật hướng dẫn gói thuốc chăm sóc sức khỏe cho F0 cách ly tại nhà (phiên bản 7.1). Trong đó có điểm mới về thuốc dành cho F0 cách ly tại nhà có bệnh mãn tính và quy định F0 cách ly tại nhà sau 10 ngày âm tính được dỡ bỏ cách ly. Sở Y tế khuyến cáo F0 đủ điều kiện cách ly tại nhà, nhưng trong nhà có người thuộc nhóm nguy cơ thì nên cách ly nơi khác để giảm nguy cơ lây lan cho các thành viên trong nhà.\n",
            "Predict Label: 0\n"
          ]
        }
      ],
      "source": [
        "# Trích 1 đoạn từ: https://kenh14.vn/star/fan-nhao-nhao-vi-tin-cuc-hot-cu-kim-soo-hyun-se-co-fan-meeting-tai-viet-nam-20140402111911750.chn\n",
        "demo_text_1 = 'Vào đúng dịp Cá tháng tư (01/4), trang fanpage của Kim Soo Hyun Việt Nam bất ngờ đăng tải thông tin cho biết chàng \"Cụ\" 400 tuổi của Vì sao đưa anh tới có thể sẽ có mặt tại Việt Nam vào ngày 22/4 tới đây. Không chỉ vậy, theo thông tin được hé lộ, Kim Soo Hyun còn tổ chức cả chương trình fan meeting để gặp gỡ và giao lưu với fan Việt.'\n",
        "\n",
        "# Trích 1 đoạn từ: https://thanhnien.vn/so-ca-covid-19-tu-vong-thap-nhat-trong-175-ngay-o-tp-hcm-post1419142.html\n",
        "demo_text_2 = 'Cùng ngày, Sở Y tế TP.HCM cho biết đã ban hành cập nhật hướng dẫn gói thuốc chăm sóc sức khỏe cho F0 cách ly tại nhà (phiên bản 7.1). Trong đó có điểm mới về thuốc dành cho F0 cách ly tại nhà có bệnh mãn tính và quy định F0 cách ly tại nhà sau 10 ngày âm tính được dỡ bỏ cách ly. Sở Y tế khuyến cáo F0 đủ điều kiện cách ly tại nhà, nhưng trong nhà có người thuộc nhóm nguy cơ thì nên cách ly nơi khác để giảm nguy cơ lây lan cho các thành viên trong nhà.'\n",
        "\n",
        "print(f\"Text Input: {demo_text_1}\\nPredict Label: {mlp_predict(demo_text_1)}\")\n",
        "\n",
        "print(f\"Text Input: {demo_text_2}\\nPredict Label: {mlp_predict(demo_text_2)}\")"
      ]
    },
    {
      "cell_type": "markdown",
      "metadata": {
        "id": "IwDloWnNCS6J"
      },
      "source": [
        "# Xây dựng mô hình máy học: Decision Tree\n",
        "\n",
        "### Xây dựng mô hình cây quyết định với 2 bước:\n",
        "\n",
        "- Tiền xử lí (sử dụng hàm PreprocessAndFeaturesExtract)\n",
        "- Xây dựng cây quyết định sử dụng DecisionTreeClassifier trong thư viện sklearn."
      ]
    },
    {
      "cell_type": "code",
      "execution_count": 15,
      "metadata": {
        "colab": {
          "base_uri": "https://localhost:8080/",
          "height": 126
        },
        "id": "Ybi8czKbCS6J",
        "outputId": "9ba95fd1-ba6e-4312-ea66-d21203208b07"
      },
      "outputs": [
        {
          "data": {
            "text/html": [
              "<style>#sk-8d77a9f2-579a-4d57-8998-d7d756e8f4c1 {color: black;background-color: white;}#sk-8d77a9f2-579a-4d57-8998-d7d756e8f4c1 pre{padding: 0;}#sk-8d77a9f2-579a-4d57-8998-d7d756e8f4c1 div.sk-toggleable {background-color: white;}#sk-8d77a9f2-579a-4d57-8998-d7d756e8f4c1 label.sk-toggleable__label {cursor: pointer;display: block;width: 100%;margin-bottom: 0;padding: 0.2em 0.3em;box-sizing: border-box;text-align: center;}#sk-8d77a9f2-579a-4d57-8998-d7d756e8f4c1 div.sk-toggleable__content {max-height: 0;max-width: 0;overflow: hidden;text-align: left;background-color: #f0f8ff;}#sk-8d77a9f2-579a-4d57-8998-d7d756e8f4c1 div.sk-toggleable__content pre {margin: 0.2em;color: black;border-radius: 0.25em;background-color: #f0f8ff;}#sk-8d77a9f2-579a-4d57-8998-d7d756e8f4c1 input.sk-toggleable__control:checked~div.sk-toggleable__content {max-height: 200px;max-width: 100%;overflow: auto;}#sk-8d77a9f2-579a-4d57-8998-d7d756e8f4c1 div.sk-estimator input.sk-toggleable__control:checked~label.sk-toggleable__label {background-color: #d4ebff;}#sk-8d77a9f2-579a-4d57-8998-d7d756e8f4c1 div.sk-label input.sk-toggleable__control:checked~label.sk-toggleable__label {background-color: #d4ebff;}#sk-8d77a9f2-579a-4d57-8998-d7d756e8f4c1 input.sk-hidden--visually {border: 0;clip: rect(1px 1px 1px 1px);clip: rect(1px, 1px, 1px, 1px);height: 1px;margin: -1px;overflow: hidden;padding: 0;position: absolute;width: 1px;}#sk-8d77a9f2-579a-4d57-8998-d7d756e8f4c1 div.sk-estimator {font-family: monospace;background-color: #f0f8ff;margin: 0.25em 0.25em;border: 1px dotted black;border-radius: 0.25em;box-sizing: border-box;}#sk-8d77a9f2-579a-4d57-8998-d7d756e8f4c1 div.sk-estimator:hover {background-color: #d4ebff;}#sk-8d77a9f2-579a-4d57-8998-d7d756e8f4c1 div.sk-parallel-item::after {content: \"\";width: 100%;border-bottom: 1px solid gray;flex-grow: 1;}#sk-8d77a9f2-579a-4d57-8998-d7d756e8f4c1 div.sk-label:hover label.sk-toggleable__label {background-color: #d4ebff;}#sk-8d77a9f2-579a-4d57-8998-d7d756e8f4c1 div.sk-serial::before {content: \"\";position: absolute;border-left: 1px solid gray;box-sizing: border-box;top: 2em;bottom: 0;left: 50%;}#sk-8d77a9f2-579a-4d57-8998-d7d756e8f4c1 div.sk-serial {display: flex;flex-direction: column;align-items: center;background-color: white;}#sk-8d77a9f2-579a-4d57-8998-d7d756e8f4c1 div.sk-item {z-index: 1;}#sk-8d77a9f2-579a-4d57-8998-d7d756e8f4c1 div.sk-parallel {display: flex;align-items: stretch;justify-content: center;background-color: white;}#sk-8d77a9f2-579a-4d57-8998-d7d756e8f4c1 div.sk-parallel-item {display: flex;flex-direction: column;position: relative;background-color: white;}#sk-8d77a9f2-579a-4d57-8998-d7d756e8f4c1 div.sk-parallel-item:first-child::after {align-self: flex-end;width: 50%;}#sk-8d77a9f2-579a-4d57-8998-d7d756e8f4c1 div.sk-parallel-item:last-child::after {align-self: flex-start;width: 50%;}#sk-8d77a9f2-579a-4d57-8998-d7d756e8f4c1 div.sk-parallel-item:only-child::after {width: 0;}#sk-8d77a9f2-579a-4d57-8998-d7d756e8f4c1 div.sk-dashed-wrapped {border: 1px dashed gray;margin: 0.2em;box-sizing: border-box;padding-bottom: 0.1em;background-color: white;position: relative;}#sk-8d77a9f2-579a-4d57-8998-d7d756e8f4c1 div.sk-label label {font-family: monospace;font-weight: bold;background-color: white;display: inline-block;line-height: 1.2em;}#sk-8d77a9f2-579a-4d57-8998-d7d756e8f4c1 div.sk-label-container {position: relative;z-index: 2;text-align: center;}#sk-8d77a9f2-579a-4d57-8998-d7d756e8f4c1 div.sk-container {display: inline-block;position: relative;}</style><div id=\"sk-8d77a9f2-579a-4d57-8998-d7d756e8f4c1\" class\"sk-top-container\"><div class=\"sk-container\"><div class=\"sk-item sk-dashed-wrapped\"><div class=\"sk-label-container\"><div class=\"sk-label sk-toggleable\"><input class=\"sk-toggleable__control sk-hidden--visually\" id=\"cdf67942-e1e3-46a9-840e-524ccdd113cd\" type=\"checkbox\" ><label class=\"sk-toggleable__label\" for=\"cdf67942-e1e3-46a9-840e-524ccdd113cd\">Pipeline</label><div class=\"sk-toggleable__content\"><pre>Pipeline(steps=[('extractfeatures', PreprocessAndFeaturesExtract()),\n",
              "                ('DecisionTree', DecisionTreeClassifier(criterion='entropy'))])</pre></div></div></div><div class=\"sk-serial\"><div class=\"sk-item\"><div class=\"sk-estimator sk-toggleable\"><input class=\"sk-toggleable__control sk-hidden--visually\" id=\"96136712-ba88-4e54-9cd6-e7b34b7d3739\" type=\"checkbox\" ><label class=\"sk-toggleable__label\" for=\"96136712-ba88-4e54-9cd6-e7b34b7d3739\">PreprocessAndFeaturesExtract</label><div class=\"sk-toggleable__content\"><pre>PreprocessAndFeaturesExtract()</pre></div></div></div><div class=\"sk-item\"><div class=\"sk-estimator sk-toggleable\"><input class=\"sk-toggleable__control sk-hidden--visually\" id=\"f513d143-63da-4c6f-be9a-fde583f973b7\" type=\"checkbox\" ><label class=\"sk-toggleable__label\" for=\"f513d143-63da-4c6f-be9a-fde583f973b7\">DecisionTreeClassifier</label><div class=\"sk-toggleable__content\"><pre>DecisionTreeClassifier(criterion='entropy')</pre></div></div></div></div></div></div></div>"
            ],
            "text/plain": [
              "Pipeline(steps=[('extractfeatures', PreprocessAndFeaturesExtract()),\n",
              "                ('DecisionTree', DecisionTreeClassifier(criterion='entropy'))])"
            ]
          },
          "execution_count": 15,
          "metadata": {},
          "output_type": "execute_result"
        }
      ],
      "source": [
        "dtc = DecisionTreeClassifier(criterion='entropy')\n",
        "dtcPipeline = Pipeline(steps = [('extractfeatures',PreprocessAndFeaturesExtract()),('DecisionTree',dtc)])\n",
        "dtcPipeline"
      ]
    },
    {
      "cell_type": "markdown",
      "metadata": {
        "id": "22bu_9BECS6J"
      },
      "source": [
        "### Thực hiện tách các tập và train mô hình"
      ]
    },
    {
      "cell_type": "code",
      "execution_count": 16,
      "metadata": {
        "colab": {
          "base_uri": "https://localhost:8080/",
          "height": 246
        },
        "id": "TSIcWB28CS6J",
        "outputId": "44380b4f-130d-4207-f7db-84d7b9eda13b"
      },
      "outputs": [
        {
          "name": "stdout",
          "output_type": "stream",
          "text": [
            "Wall time: 25.8 s\n"
          ]
        },
        {
          "data": {
            "text/html": [
              "<style>#sk-85ace9a2-207f-417e-8948-f7e7dbbf103a {color: black;background-color: white;}#sk-85ace9a2-207f-417e-8948-f7e7dbbf103a pre{padding: 0;}#sk-85ace9a2-207f-417e-8948-f7e7dbbf103a div.sk-toggleable {background-color: white;}#sk-85ace9a2-207f-417e-8948-f7e7dbbf103a label.sk-toggleable__label {cursor: pointer;display: block;width: 100%;margin-bottom: 0;padding: 0.2em 0.3em;box-sizing: border-box;text-align: center;}#sk-85ace9a2-207f-417e-8948-f7e7dbbf103a div.sk-toggleable__content {max-height: 0;max-width: 0;overflow: hidden;text-align: left;background-color: #f0f8ff;}#sk-85ace9a2-207f-417e-8948-f7e7dbbf103a div.sk-toggleable__content pre {margin: 0.2em;color: black;border-radius: 0.25em;background-color: #f0f8ff;}#sk-85ace9a2-207f-417e-8948-f7e7dbbf103a input.sk-toggleable__control:checked~div.sk-toggleable__content {max-height: 200px;max-width: 100%;overflow: auto;}#sk-85ace9a2-207f-417e-8948-f7e7dbbf103a div.sk-estimator input.sk-toggleable__control:checked~label.sk-toggleable__label {background-color: #d4ebff;}#sk-85ace9a2-207f-417e-8948-f7e7dbbf103a div.sk-label input.sk-toggleable__control:checked~label.sk-toggleable__label {background-color: #d4ebff;}#sk-85ace9a2-207f-417e-8948-f7e7dbbf103a input.sk-hidden--visually {border: 0;clip: rect(1px 1px 1px 1px);clip: rect(1px, 1px, 1px, 1px);height: 1px;margin: -1px;overflow: hidden;padding: 0;position: absolute;width: 1px;}#sk-85ace9a2-207f-417e-8948-f7e7dbbf103a div.sk-estimator {font-family: monospace;background-color: #f0f8ff;margin: 0.25em 0.25em;border: 1px dotted black;border-radius: 0.25em;box-sizing: border-box;}#sk-85ace9a2-207f-417e-8948-f7e7dbbf103a div.sk-estimator:hover {background-color: #d4ebff;}#sk-85ace9a2-207f-417e-8948-f7e7dbbf103a div.sk-parallel-item::after {content: \"\";width: 100%;border-bottom: 1px solid gray;flex-grow: 1;}#sk-85ace9a2-207f-417e-8948-f7e7dbbf103a div.sk-label:hover label.sk-toggleable__label {background-color: #d4ebff;}#sk-85ace9a2-207f-417e-8948-f7e7dbbf103a div.sk-serial::before {content: \"\";position: absolute;border-left: 1px solid gray;box-sizing: border-box;top: 2em;bottom: 0;left: 50%;}#sk-85ace9a2-207f-417e-8948-f7e7dbbf103a div.sk-serial {display: flex;flex-direction: column;align-items: center;background-color: white;}#sk-85ace9a2-207f-417e-8948-f7e7dbbf103a div.sk-item {z-index: 1;}#sk-85ace9a2-207f-417e-8948-f7e7dbbf103a div.sk-parallel {display: flex;align-items: stretch;justify-content: center;background-color: white;}#sk-85ace9a2-207f-417e-8948-f7e7dbbf103a div.sk-parallel-item {display: flex;flex-direction: column;position: relative;background-color: white;}#sk-85ace9a2-207f-417e-8948-f7e7dbbf103a div.sk-parallel-item:first-child::after {align-self: flex-end;width: 50%;}#sk-85ace9a2-207f-417e-8948-f7e7dbbf103a div.sk-parallel-item:last-child::after {align-self: flex-start;width: 50%;}#sk-85ace9a2-207f-417e-8948-f7e7dbbf103a div.sk-parallel-item:only-child::after {width: 0;}#sk-85ace9a2-207f-417e-8948-f7e7dbbf103a div.sk-dashed-wrapped {border: 1px dashed gray;margin: 0.2em;box-sizing: border-box;padding-bottom: 0.1em;background-color: white;position: relative;}#sk-85ace9a2-207f-417e-8948-f7e7dbbf103a div.sk-label label {font-family: monospace;font-weight: bold;background-color: white;display: inline-block;line-height: 1.2em;}#sk-85ace9a2-207f-417e-8948-f7e7dbbf103a div.sk-label-container {position: relative;z-index: 2;text-align: center;}#sk-85ace9a2-207f-417e-8948-f7e7dbbf103a div.sk-container {display: inline-block;position: relative;}</style><div id=\"sk-85ace9a2-207f-417e-8948-f7e7dbbf103a\" class\"sk-top-container\"><div class=\"sk-container\"><div class=\"sk-item sk-dashed-wrapped\"><div class=\"sk-label-container\"><div class=\"sk-label sk-toggleable\"><input class=\"sk-toggleable__control sk-hidden--visually\" id=\"a18c76dc-3d36-4773-83e3-440bec289537\" type=\"checkbox\" ><label class=\"sk-toggleable__label\" for=\"a18c76dc-3d36-4773-83e3-440bec289537\">Pipeline</label><div class=\"sk-toggleable__content\"><pre>Pipeline(steps=[('extractfeatures', PreprocessAndFeaturesExtract()),\n",
              "                ('DecisionTree', DecisionTreeClassifier(criterion='entropy'))])</pre></div></div></div><div class=\"sk-serial\"><div class=\"sk-item\"><div class=\"sk-estimator sk-toggleable\"><input class=\"sk-toggleable__control sk-hidden--visually\" id=\"09ba1f6a-080c-46cc-ae38-94eb171b9cee\" type=\"checkbox\" ><label class=\"sk-toggleable__label\" for=\"09ba1f6a-080c-46cc-ae38-94eb171b9cee\">PreprocessAndFeaturesExtract</label><div class=\"sk-toggleable__content\"><pre>PreprocessAndFeaturesExtract()</pre></div></div></div><div class=\"sk-item\"><div class=\"sk-estimator sk-toggleable\"><input class=\"sk-toggleable__control sk-hidden--visually\" id=\"7a20888b-f3b5-44ad-bcc9-ffe400134ab7\" type=\"checkbox\" ><label class=\"sk-toggleable__label\" for=\"7a20888b-f3b5-44ad-bcc9-ffe400134ab7\">DecisionTreeClassifier</label><div class=\"sk-toggleable__content\"><pre>DecisionTreeClassifier(criterion='entropy')</pre></div></div></div></div></div></div></div>"
            ],
            "text/plain": [
              "Pipeline(steps=[('extractfeatures', PreprocessAndFeaturesExtract()),\n",
              "                ('DecisionTree', DecisionTreeClassifier(criterion='entropy'))])"
            ]
          },
          "execution_count": 16,
          "metadata": {},
          "output_type": "execute_result"
        }
      ],
      "source": [
        "%%time\n",
        "dtcPipeline.fit(train_X_df, train_Y_sr)"
      ]
    },
    {
      "cell_type": "code",
      "execution_count": 17,
      "metadata": {
        "colab": {
          "base_uri": "https://localhost:8080/"
        },
        "id": "gy919nHFCS6K",
        "outputId": "7b920770-fa63-4f2c-a92f-4d6433cf544f"
      },
      "outputs": [
        {
          "data": {
            "text/plain": [
              "1.0"
            ]
          },
          "execution_count": 17,
          "metadata": {},
          "output_type": "execute_result"
        }
      ],
      "source": [
        "dtcPipeline.score(train_X_df, train_Y_sr)"
      ]
    },
    {
      "cell_type": "code",
      "execution_count": 18,
      "metadata": {
        "colab": {
          "base_uri": "https://localhost:8080/"
        },
        "id": "BTQQvPEFCS6K",
        "outputId": "8b44822c-61aa-48bd-e83e-dd66434c61d9"
      },
      "outputs": [
        {
          "data": {
            "text/plain": [
              "0.5333333333333333"
            ]
          },
          "execution_count": 18,
          "metadata": {},
          "output_type": "execute_result"
        }
      ],
      "source": [
        "dtcPipeline.score(val_X_df, val_Y_sr)"
      ]
    },
    {
      "cell_type": "markdown",
      "metadata": {
        "id": "4LuYVgT6CS6K"
      },
      "source": [
        "### Thay đổi các tham số để cải tiến mô hình\n",
        "\n",
        "Ta có thế cải tiến mô hình bằng cách thay đổi các siêu tham số trong mô hình. Ở đây ta xem xét siêu tham số `ccp_alpha` của `DecisionTreeClassifier`.\n",
        "\n",
        "Việc tăng siêu tham số `ccp_alpha` sẽ làm tăng số lượng node bị loại bỏ khi thực hiện thao tác tỉa cây. Từ đó giúp mô hình không bị overfitting. [Tham khảo](https://scikit-learn.org/stable/auto_examples/tree/plot_cost_complexity_pruning.html#sphx-glr-auto-examples-tree-plot-cost-complexity-pruning-py)"
      ]
    },
    {
      "cell_type": "code",
      "execution_count": 19,
      "metadata": {
        "colab": {
          "base_uri": "https://localhost:8080/"
        },
        "id": "_vwIZN-BCS6K",
        "outputId": "e7ef2491-2a40-4512-ee88-fbfd11c856cc"
      },
      "outputs": [],
      "source": [
        "path = dtcPipeline['DecisionTree'].cost_complexity_pruning_path(dtcPipeline[:-1].transform(train_X_df), train_Y_sr)\n",
        "ccp_alphas, impurities = path.ccp_alphas, path.impurities"
      ]
    },
    {
      "cell_type": "markdown",
      "metadata": {
        "id": "2XqcOgavCS6L"
      },
      "source": [
        "Xem xét sự biến đổi của **impurity** của các node với sự biến đổi của siêu tham số `ccp_alpha`."
      ]
    },
    {
      "cell_type": "code",
      "execution_count": 20,
      "metadata": {
        "colab": {
          "base_uri": "https://localhost:8080/",
          "height": 296
        },
        "id": "YrzoumfICS6L",
        "outputId": "9be53a39-831b-4307-eee3-07fba2dc42e7"
      },
      "outputs": [
        {
          "data": {
            "image/png": "[encoded data removed]",
            "text/plain": [
              "<Figure size 432x288 with 1 Axes>"
            ]
          },
          "metadata": {
            "needs_background": "light"
          },
          "output_type": "display_data"
        }
      ],
      "source": [
        "fig, ax = plt.subplots()\n",
        "ax.plot(ccp_alphas[:-1], impurities[:-1], marker=\"o\", drawstyle=\"steps-post\")\n",
        "ax.set_xlabel(\"Effective ccp_alpha\")\n",
        "ax.set_ylabel(\"Total impurity of leaves\")\n",
        "ax.set_title(\"Total Impurity vs effective alpha for training set\");"
      ]
    },
    {
      "cell_type": "markdown",
      "metadata": {
        "id": "RgN7WNZ3CS6L"
      },
      "source": [
        "Thay đổi siêu tham số `ccp_alpha` để tìm ra mô hình tốt nhất."
      ]
    },
    {
      "cell_type": "code",
      "execution_count": 21,
      "metadata": {
        "colab": {
          "base_uri": "https://localhost:8080/"
        },
        "id": "_AOoDQXuCS6L",
        "outputId": "ada16e69-42b1-48c0-8f95-6e4b13f27851"
      },
      "outputs": [
        {
          "name": "stdout",
          "output_type": "stream",
          "text": [
            "Wall time: 7min 39s\n"
          ]
        }
      ],
      "source": [
        "%%time\n",
        "train_accs = []\n",
        "test_accs = []\n",
        "best_test_acc = 0\n",
        "best_ccp_alpha = None\n",
        "for ca in ccp_alphas:\n",
        "    dtcPipeline.set_params(DecisionTree__ccp_alpha = ca)\n",
        "    dtcPipeline.fit(train_X_df, train_Y_sr)        \n",
        "    train_accs.append(dtcPipeline.score(train_X_df, train_Y_sr))\n",
        "    test_accs.append(dtcPipeline.score(val_X_df, val_Y_sr))\n",
        "    if test_accs[-1] > best_test_acc:\n",
        "        best_test_acc = test_accs[-1]\n",
        "        best_ccp_alpha = ca"
      ]
    },
    {
      "cell_type": "markdown",
      "metadata": {
        "id": "lDxB6gs9CS6L"
      },
      "source": [
        "Trực quan hóa kết quả **Accuracy** của các mô hình trên tập **train** và **test** khi thay đổi siêu tham số `ccp_alpha`."
      ]
    },
    {
      "cell_type": "code",
      "execution_count": 22,
      "metadata": {
        "colab": {
          "base_uri": "https://localhost:8080/",
          "height": 296
        },
        "id": "qBsm6GXaCS6M",
        "outputId": "106ed1b9-567d-4f96-fd73-d0e47ba0b3fb"
      },
      "outputs": [
        {
          "data": {
            "image/png": "[encoded data removed]",
            "text/plain": [
              "<Figure size 432x288 with 1 Axes>"
            ]
          },
          "metadata": {
            "needs_background": "light"
          },
          "output_type": "display_data"
        }
      ],
      "source": [
        "fig, ax = plt.subplots()\n",
        "ax.set_xlabel(\"ccp_alpha\")\n",
        "ax.set_ylabel(\"Accuracy\")\n",
        "ax.set_title(\"Test accuracy\")\n",
        "ax.plot(ccp_alphas, train_accs, marker=\"o\", label=\"train\", drawstyle=\"steps-post\")\n",
        "ax.plot(ccp_alphas, test_accs, marker=\"o\", label=\"test\", drawstyle=\"steps-post\")\n",
        "ax.legend()\n",
        "plt.show()"
      ]
    },
    {
      "cell_type": "code",
      "execution_count": 23,
      "metadata": {
        "colab": {
          "base_uri": "https://localhost:8080/"
        },
        "id": "GfIpftiICS6M",
        "outputId": "b3d962bd-7c00-4d84-aaf6-220f486869f0"
      },
      "outputs": [
        {
          "name": "stdout",
          "output_type": "stream",
          "text": [
            "Best test accuracy = 0.6 with ccp_alpha = 0.033707865168539325 \n"
          ]
        }
      ],
      "source": [
        "print(f'Best test accuracy = {best_test_acc} with ccp_alpha = {best_ccp_alpha} ')"
      ]
    },
    {
      "cell_type": "markdown",
      "metadata": {
        "id": "oVfaM-vcCS6M"
      },
      "source": [
        "Gán lại `ccp_alpha` và `fit` mô hình trên toàn bộ dữ liệu. Như vậy ta đã có được mô hình cuối cùng."
      ]
    },
    {
      "cell_type": "code",
      "execution_count": 24,
      "metadata": {
        "colab": {
          "base_uri": "https://localhost:8080/",
          "height": 213
        },
        "id": "BJ64c3c_CS6M",
        "outputId": "9ba908c1-2148-4149-fa75-f994d5f00e09"
      },
      "outputs": [
        {
          "data": {
            "text/html": [
              "<style>#sk-b5bf449c-dbf5-49c6-93a1-572987a78325 {color: black;background-color: white;}#sk-b5bf449c-dbf5-49c6-93a1-572987a78325 pre{padding: 0;}#sk-b5bf449c-dbf5-49c6-93a1-572987a78325 div.sk-toggleable {background-color: white;}#sk-b5bf449c-dbf5-49c6-93a1-572987a78325 label.sk-toggleable__label {cursor: pointer;display: block;width: 100%;margin-bottom: 0;padding: 0.2em 0.3em;box-sizing: border-box;text-align: center;}#sk-b5bf449c-dbf5-49c6-93a1-572987a78325 div.sk-toggleable__content {max-height: 0;max-width: 0;overflow: hidden;text-align: left;background-color: #f0f8ff;}#sk-b5bf449c-dbf5-49c6-93a1-572987a78325 div.sk-toggleable__content pre {margin: 0.2em;color: black;border-radius: 0.25em;background-color: #f0f8ff;}#sk-b5bf449c-dbf5-49c6-93a1-572987a78325 input.sk-toggleable__control:checked~div.sk-toggleable__content {max-height: 200px;max-width: 100%;overflow: auto;}#sk-b5bf449c-dbf5-49c6-93a1-572987a78325 div.sk-estimator input.sk-toggleable__control:checked~label.sk-toggleable__label {background-color: #d4ebff;}#sk-b5bf449c-dbf5-49c6-93a1-572987a78325 div.sk-label input.sk-toggleable__control:checked~label.sk-toggleable__label {background-color: #d4ebff;}#sk-b5bf449c-dbf5-49c6-93a1-572987a78325 input.sk-hidden--visually {border: 0;clip: rect(1px 1px 1px 1px);clip: rect(1px, 1px, 1px, 1px);height: 1px;margin: -1px;overflow: hidden;padding: 0;position: absolute;width: 1px;}#sk-b5bf449c-dbf5-49c6-93a1-572987a78325 div.sk-estimator {font-family: monospace;background-color: #f0f8ff;margin: 0.25em 0.25em;border: 1px dotted black;border-radius: 0.25em;box-sizing: border-box;}#sk-b5bf449c-dbf5-49c6-93a1-572987a78325 div.sk-estimator:hover {background-color: #d4ebff;}#sk-b5bf449c-dbf5-49c6-93a1-572987a78325 div.sk-parallel-item::after {content: \"\";width: 100%;border-bottom: 1px solid gray;flex-grow: 1;}#sk-b5bf449c-dbf5-49c6-93a1-572987a78325 div.sk-label:hover label.sk-toggleable__label {background-color: #d4ebff;}#sk-b5bf449c-dbf5-49c6-93a1-572987a78325 div.sk-serial::before {content: \"\";position: absolute;border-left: 1px solid gray;box-sizing: border-box;top: 2em;bottom: 0;left: 50%;}#sk-b5bf449c-dbf5-49c6-93a1-572987a78325 div.sk-serial {display: flex;flex-direction: column;align-items: center;background-color: white;}#sk-b5bf449c-dbf5-49c6-93a1-572987a78325 div.sk-item {z-index: 1;}#sk-b5bf449c-dbf5-49c6-93a1-572987a78325 div.sk-parallel {display: flex;align-items: stretch;justify-content: center;background-color: white;}#sk-b5bf449c-dbf5-49c6-93a1-572987a78325 div.sk-parallel-item {display: flex;flex-direction: column;position: relative;background-color: white;}#sk-b5bf449c-dbf5-49c6-93a1-572987a78325 div.sk-parallel-item:first-child::after {align-self: flex-end;width: 50%;}#sk-b5bf449c-dbf5-49c6-93a1-572987a78325 div.sk-parallel-item:last-child::after {align-self: flex-start;width: 50%;}#sk-b5bf449c-dbf5-49c6-93a1-572987a78325 div.sk-parallel-item:only-child::after {width: 0;}#sk-b5bf449c-dbf5-49c6-93a1-572987a78325 div.sk-dashed-wrapped {border: 1px dashed gray;margin: 0.2em;box-sizing: border-box;padding-bottom: 0.1em;background-color: white;position: relative;}#sk-b5bf449c-dbf5-49c6-93a1-572987a78325 div.sk-label label {font-family: monospace;font-weight: bold;background-color: white;display: inline-block;line-height: 1.2em;}#sk-b5bf449c-dbf5-49c6-93a1-572987a78325 div.sk-label-container {position: relative;z-index: 2;text-align: center;}#sk-b5bf449c-dbf5-49c6-93a1-572987a78325 div.sk-container {display: inline-block;position: relative;}</style><div id=\"sk-b5bf449c-dbf5-49c6-93a1-572987a78325\" class\"sk-top-container\"><div class=\"sk-container\"><div class=\"sk-item sk-dashed-wrapped\"><div class=\"sk-label-container\"><div class=\"sk-label sk-toggleable\"><input class=\"sk-toggleable__control sk-hidden--visually\" id=\"4be799bc-09f8-4378-850f-3354378203e1\" type=\"checkbox\" ><label class=\"sk-toggleable__label\" for=\"4be799bc-09f8-4378-850f-3354378203e1\">Pipeline</label><div class=\"sk-toggleable__content\"><pre>Pipeline(steps=[('extractfeatures', PreprocessAndFeaturesExtract()),\n",
              "                ('DecisionTree',\n",
              "                 DecisionTreeClassifier(ccp_alpha=0.033707865168539325,\n",
              "                                        criterion='entropy'))])</pre></div></div></div><div class=\"sk-serial\"><div class=\"sk-item\"><div class=\"sk-estimator sk-toggleable\"><input class=\"sk-toggleable__control sk-hidden--visually\" id=\"371d9b47-b9f9-4c3e-839d-f277cfb06ecd\" type=\"checkbox\" ><label class=\"sk-toggleable__label\" for=\"371d9b47-b9f9-4c3e-839d-f277cfb06ecd\">PreprocessAndFeaturesExtract</label><div class=\"sk-toggleable__content\"><pre>PreprocessAndFeaturesExtract()</pre></div></div></div><div class=\"sk-item\"><div class=\"sk-estimator sk-toggleable\"><input class=\"sk-toggleable__control sk-hidden--visually\" id=\"9e1f9377-dee4-4f15-beb5-49c0740d3005\" type=\"checkbox\" ><label class=\"sk-toggleable__label\" for=\"9e1f9377-dee4-4f15-beb5-49c0740d3005\">DecisionTreeClassifier</label><div class=\"sk-toggleable__content\"><pre>DecisionTreeClassifier(ccp_alpha=0.033707865168539325, criterion='entropy')</pre></div></div></div></div></div></div></div>"
            ],
            "text/plain": [
              "Pipeline(steps=[('extractfeatures', PreprocessAndFeaturesExtract()),\n",
              "                ('DecisionTree',\n",
              "                 DecisionTreeClassifier(ccp_alpha=0.033707865168539325,\n",
              "                                        criterion='entropy'))])"
            ]
          },
          "execution_count": 24,
          "metadata": {},
          "output_type": "execute_result"
        }
      ],
      "source": [
        "dtcPipeline.set_params(DecisionTree__ccp_alpha = best_ccp_alpha)\n",
        "dtcPipeline.fit(X_df,Y_sr)"
      ]
    },
    {
      "cell_type": "markdown",
      "metadata": {},
      "source": [
        "# Lưu model\n",
        "\n",
        "Các mô hình máy học được lưu lại để sử dụng cho việc deploy mô hình lên web."
      ]
    },
    {
      "cell_type": "code",
      "execution_count": 36,
      "metadata": {},
      "outputs": [],
      "source": [
        "import pickle"
      ]
    },
    {
      "cell_type": "markdown",
      "metadata": {},
      "source": [
        "### Mô hình Cây quyết định"
      ]
    },
    {
      "cell_type": "code",
      "execution_count": 37,
      "metadata": {},
      "outputs": [],
      "source": [
        "f = open(\"./model/DecisionTree.pkl\",\"wb\")\n",
        "pickle.dump(dtcPipeline, f)\n",
        "f.close()"
      ]
    },
    {
      "cell_type": "markdown",
      "metadata": {},
      "source": [
        "### Mô hình MLPClassifier"
      ]
    },
    {
      "cell_type": "code",
      "execution_count": 38,
      "metadata": {},
      "outputs": [],
      "source": [
        "f = open(\"./model/MLP.pkl\",\"wb\")\n",
        "pickle.dump(pipeline_mlp, f)\n",
        "f.close()"
      ]
    }
  ],
  "metadata": {
    "colab": {
      "collapsed_sections": [],
      "name": "PJ3.ipynb",
      "provenance": []
    },
    "kernelspec": {
      "display_name": "Python 3 (ipykernel)",
      "language": "python",
      "name": "python3"
    },
    "language_info": {
      "codemirror_mode": {
        "name": "ipython",
        "version": 3
      },
      "file_extension": ".py",
      "mimetype": "text/x-python",
      "name": "python",
      "nbconvert_exporter": "python",
      "pygments_lexer": "ipython3",
      "version": "3.8.8"
    }
  },
  "nbformat": 4,
  "nbformat_minor": 0
}
