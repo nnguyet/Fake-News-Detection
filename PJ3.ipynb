{
 "cells": [
  {
   "cell_type": "markdown",
   "metadata": {
    "id": "00VFkB1qfUPv"
   },
   "source": [
    "## Thư viện"
   ]
  },
  {
   "cell_type": "code",
   "execution_count": 1,
   "metadata": {
    "id": "i7e85P-iOiOC"
   },
   "outputs": [],
   "source": [
    "import matplotlib.pyplot as plt\n",
    "import pandas as pd\n",
    "import numpy as np\n",
    "import re\n",
    "\n",
    "from sklearn.feature_extraction.text import TfidfVectorizer\n",
    "from sklearn.base import BaseEstimator, TransformerMixin\n",
    "from sklearn.neural_network import MLPClassifier\n",
    "from sklearn.pipeline import Pipeline\n",
    "from sklearn.model_selection import train_test_split\n",
    "from sklearn import set_config\n",
    "from sklearn.tree import DecisionTreeClassifier\n",
    "from sklearn.metrics import accuracy_score\n",
    "set_config(display='diagram')"
   ]
  },
  {
   "cell_type": "code",
   "execution_count": 2,
   "metadata": {
    "id": "OKIC69ERKJXS"
   },
   "outputs": [],
   "source": [
    "# pyvi: https://pypi.org/project/pyvi/0.0.7.5/ - Vietnamese tokenizing tool\n",
    "# !pip install pyvi\n",
    "from pyvi import ViTokenizer, ViPosTagger"
   ]
  },
  {
   "cell_type": "markdown",
   "metadata": {
    "id": "lC3jSCDpeKid"
   },
   "source": [
    "## Dữ liệu\n",
    "\n",
    "Nguồn dữ liệu: VNFD Dataset - [vn_news_223_tdlfr.csv](https://github.com/thanhhocse96/vfnd-vietnamese-fake-news-datasets/blob/master/CSV/vn_news_223_tdlfr.csv)\n",
    "\n",
    "Mô tả dữ liệu: [Mô tả tập VNFD](https://github.com/thanhhocse96/vfnd-vietnamese-fake-news-datasets/tree/master/CSV)"
   ]
  },
  {
   "cell_type": "code",
   "execution_count": 3,
   "metadata": {
    "colab": {
     "base_uri": "https://localhost:8080/",
     "height": 417
    },
    "id": "Qsc_NwtYPRMd",
    "outputId": "243ec927-c4f6-4e91-dbf6-f6579af94a18"
   },
   "outputs": [
    {
     "data": {
      "text/html": [
       "<div>\n",
       "<style scoped>\n",
       "    .dataframe tbody tr th:only-of-type {\n",
       "        vertical-align: middle;\n",
       "    }\n",
       "\n",
       "    .dataframe tbody tr th {\n",
       "        vertical-align: top;\n",
       "    }\n",
       "\n",
       "    .dataframe thead th {\n",
       "        text-align: right;\n",
       "    }\n",
       "</style>\n",
       "<table border=\"1\" class=\"dataframe\">\n",
       "  <thead>\n",
       "    <tr style=\"text-align: right;\">\n",
       "      <th></th>\n",
       "      <th>text</th>\n",
       "      <th>label</th>\n",
       "    </tr>\n",
       "  </thead>\n",
       "  <tbody>\n",
       "    <tr>\n",
       "      <th>0</th>\n",
       "      <td>Thủ tướng Abe cúi đầu xin lỗi vì hành động phi...</td>\n",
       "      <td>1</td>\n",
       "    </tr>\n",
       "    <tr>\n",
       "      <th>1</th>\n",
       "      <td>Thủ tướng Nhật cúi đầu xin lỗi vì tinh thần ph...</td>\n",
       "      <td>1</td>\n",
       "    </tr>\n",
       "    <tr>\n",
       "      <th>2</th>\n",
       "      <td>Choáng! Cơ trưởng đeo khăn quàng quẩy banh nóc...</td>\n",
       "      <td>1</td>\n",
       "    </tr>\n",
       "    <tr>\n",
       "      <th>3</th>\n",
       "      <td>Chưa bao giờ nhạc Kpop lại dễ hát đến thế!!!\\r...</td>\n",
       "      <td>1</td>\n",
       "    </tr>\n",
       "    <tr>\n",
       "      <th>4</th>\n",
       "      <td>Đại học Hutech sẽ áp dụng cải cách \"Tiếq Việt\"...</td>\n",
       "      <td>1</td>\n",
       "    </tr>\n",
       "    <tr>\n",
       "      <th>...</th>\n",
       "      <td>...</td>\n",
       "      <td>...</td>\n",
       "    </tr>\n",
       "    <tr>\n",
       "      <th>218</th>\n",
       "      <td>“Siêu máy bay” A350 sẽ chở CĐV Việt Nam đi Mal...</td>\n",
       "      <td>0</td>\n",
       "    </tr>\n",
       "    <tr>\n",
       "      <th>219</th>\n",
       "      <td>Thưởng 20.000 USD cho đội tuyển cờ vua Việt Na...</td>\n",
       "      <td>0</td>\n",
       "    </tr>\n",
       "    <tr>\n",
       "      <th>220</th>\n",
       "      <td>Trường Sơn giành HCV tại giải cờ vua đồng đội ...</td>\n",
       "      <td>0</td>\n",
       "    </tr>\n",
       "    <tr>\n",
       "      <th>221</th>\n",
       "      <td>Chuyện về chàng sinh viên Luật - Kiện tướng Lê...</td>\n",
       "      <td>0</td>\n",
       "    </tr>\n",
       "    <tr>\n",
       "      <th>222</th>\n",
       "      <td>Tiền đạo Malaysia: “Tôi đã có cách vượt qua hà...</td>\n",
       "      <td>0</td>\n",
       "    </tr>\n",
       "  </tbody>\n",
       "</table>\n",
       "<p>223 rows × 2 columns</p>\n",
       "</div>"
      ],
      "text/plain": [
       "                                                  text  label\n",
       "0    Thủ tướng Abe cúi đầu xin lỗi vì hành động phi...      1\n",
       "1    Thủ tướng Nhật cúi đầu xin lỗi vì tinh thần ph...      1\n",
       "2    Choáng! Cơ trưởng đeo khăn quàng quẩy banh nóc...      1\n",
       "3    Chưa bao giờ nhạc Kpop lại dễ hát đến thế!!!\\r...      1\n",
       "4    Đại học Hutech sẽ áp dụng cải cách \"Tiếq Việt\"...      1\n",
       "..                                                 ...    ...\n",
       "218  “Siêu máy bay” A350 sẽ chở CĐV Việt Nam đi Mal...      0\n",
       "219  Thưởng 20.000 USD cho đội tuyển cờ vua Việt Na...      0\n",
       "220  Trường Sơn giành HCV tại giải cờ vua đồng đội ...      0\n",
       "221  Chuyện về chàng sinh viên Luật - Kiện tướng Lê...      0\n",
       "222  Tiền đạo Malaysia: “Tôi đã có cách vượt qua hà...      0\n",
       "\n",
       "[223 rows x 2 columns]"
      ]
     },
     "execution_count": 3,
     "metadata": {},
     "output_type": "execute_result"
    }
   ],
   "source": [
    "df = pd.read_csv(\"data/vn_news_223_tdlfr.csv\")\n",
    "df = df.drop(columns=['domain'])\n",
    "df"
   ]
  },
  {
   "cell_type": "markdown",
   "metadata": {
    "id": "ygwRbJJpL4_2"
   },
   "source": [
    "Chúng ta sẽ chia dữ liệu thành 2 tập train và validation, với tỉ lệ 80/20.\n",
    "\n",
    "Từ giờ, mọi bước liên quan đến tiền xử lý, trích xuất đặc trưng, train mô hình học máy đều chỉ thực hiện trên tập train. Tập validation sẽ được để dành cho việc kiểm tra lại mô hình."
   ]
  },
  {
   "cell_type": "code",
   "execution_count": 4,
   "metadata": {
    "id": "Z2FN3voKiAWV"
   },
   "outputs": [],
   "source": [
    "X_df = df.drop(\"label\", axis=1)\n",
    "Y_sr = df[\"label\"]\n",
    "\n",
    "train_X_df, val_X_df, train_Y_sr, val_Y_sr = train_test_split(\n",
    "    X_df, Y_sr, \n",
    "    test_size = 0.2, \n",
    "    stratify = Y_sr, \n",
    "    # random_state = 0\n",
    ")"
   ]
  },
  {
   "cell_type": "markdown",
   "metadata": {
    "id": "ZRwuSPyFeEwR"
   },
   "source": [
    "## Tiền xử lý văn bản tiếng Việt"
   ]
  },
  {
   "cell_type": "markdown",
   "metadata": {
    "id": "2ymy-5OJMkST"
   },
   "source": [
    "Stopwords: https://github.com/stopwords/vietnamese-stopwords/blob/master/vietnamese-stopwords.txt\n",
    "\n",
    "Tokenizer: Pyvi - Vietnamese tokenizing tool - https://pypi.org/project/pyvi/0.0.7.5/\n",
    "\n",
    "\n",
    "Quá trình xử lý 1 đoạn text được thực hiện như sau:\n",
    "\n",
    "* Tokenize\n",
    "* Remove punctuations\n",
    "* Remove special chars\n",
    "* Remove links\n",
    "* Lowercase\n",
    "* Remove stopwords"
   ]
  },
  {
   "cell_type": "code",
   "execution_count": 5,
   "metadata": {
    "id": "Rgljv-JBPBnw"
   },
   "outputs": [],
   "source": [
    "with open(\"stopwords/vietnamese-stopwords.txt\",encoding='utf-8') as file:\n",
    "    stopwords = file.readlines()\n",
    "    stopwords = [word.rstrip() for word in stopwords]\n",
    "\n",
    "punctuations = '''!()-–=[]{}“”‘’;:'\"|\\,<>./?@#$%^&*_~'''\n",
    "\n",
    "special_chars = ['\\n', '\\t']\n",
    "\n",
    "regex = re.compile(\n",
    "        r'^(?:http|ftp)s?://' # http:// or https://\n",
    "        r'(?:(?:[A-Z0-9](?:[A-Z0-9-]{0,61}[A-Z0-9])?\\.)+(?:[A-Z]{2,6}\\.?|[A-Z0-9-]{2,}\\.?)|' # domain\n",
    "        r'localhost|' # localhost\n",
    "        r'\\d{1,3}\\.\\d{1,3}\\.\\d{1,3}\\.\\d{1,3})' # ip\n",
    "        r'(?::\\d+)?' # port\n",
    "        r'(?:/?|[/?]\\S+)$', re.IGNORECASE)   "
   ]
  },
  {
   "cell_type": "code",
   "execution_count": 6,
   "metadata": {
    "id": "FpfY8ebTKTrj"
   },
   "outputs": [],
   "source": [
    "def tokenize(text):\n",
    "    tokenized_text = ViPosTagger.postagging(ViTokenizer.tokenize(text))\n",
    "    return tokenized_text[0]\n",
    "\n",
    "def is_punctuation(token):\n",
    "    global punctuations\n",
    "    return True if token in punctuations else False\n",
    "\n",
    "def is_special_chars(token):\n",
    "    global special_chars\n",
    "    return True if token in special_chars else False\n",
    "\n",
    "def is_link(token):\n",
    "    return re.match(regex, token) is not None\n",
    "\n",
    "def lowercase(token):\n",
    "    return token.lower()\n",
    "\n",
    "def is_stopword(token):\n",
    "    global stopwords\n",
    "    return True if token in stopwords else False\n",
    "\n",
    "# ===============================================================\n",
    "# Process:\n",
    "# Text -> Tokenize (pyvi) -> Remove punctuations -> Remove special chars \n",
    "# -> Remove links -> Lowercase -> Remove stopwords -> Final Tokens\n",
    "# ===============================================================\n",
    "def vietnamese_text_preprocessing(text):\n",
    "    tokens = tokenize(text)\n",
    "    tokens = [token for token in tokens if not is_punctuation(token)]\n",
    "    tokens = [token for token in tokens if not is_special_chars(token)]\n",
    "    tokens = [token for token in tokens if not is_link(token)]\n",
    "    tokens = [lowercase(token) for token in tokens]\n",
    "    tokens = [token for token in tokens if not is_stopword(token)]\n",
    "    # return tokens\n",
    "    return tokens"
   ]
  },
  {
   "cell_type": "markdown",
   "metadata": {
    "id": "KGaMSfa5N1FU"
   },
   "source": [
    "Ví dụ sử dụng:"
   ]
  },
  {
   "cell_type": "code",
   "execution_count": 7,
   "metadata": {
    "colab": {
     "base_uri": "https://localhost:8080/"
    },
    "id": "khKIj6EIN0Ux",
    "outputId": "292fb1e4-cf50-4a38-c16f-05b46833eaee"
   },
   "outputs": [
    {
     "name": "stdout",
     "output_type": "stream",
     "text": [
      "['trải', '25', 'hoạt_động', 'khoa', 'công_nghệ', 'thông_tin', 'cntt', 'phát_triển', 'vững_chắc', 'chính_phủ', 'bảo_trợ', 'trở_thành', 'khoa', 'cntt', 'đầu', 'ngành', 'hệ_thống', 'giáo_dục', 'đại_học', 'việt_nam']\n"
     ]
    }
   ],
   "source": [
    "# Trích 1 đoạn từ https://www.fit.hcmus.edu.vn/\n",
    "demo_text = 'Trải qua hơn 25 năm hoạt động, Khoa Công nghệ Thông tin (CNTT) đã phát triển vững chắc và được Chính phủ bảo trợ để trở thành một trong những khoa CNTT đầu ngành trong hệ thống giáo dục đại học của Việt Nam.'\n",
    "\n",
    "demo_text_to_tokens = vietnamese_text_preprocessing(demo_text)\n",
    "print(demo_text_to_tokens)"
   ]
  },
  {
   "cell_type": "markdown",
   "metadata": {
    "id": "vAXiICVfFl5e"
   },
   "source": [
    "## Xây dựng mô hình máy học: MLPClassifier"
   ]
  },
  {
   "cell_type": "markdown",
   "metadata": {
    "id": "UK_Snuj7G5DB"
   },
   "source": [
    "#### Xây dựng pipeline\n",
    "\n",
    "Pipeline: \n",
    "* **PreprocessAndFeaturesExtract**: Tiền xử lý văn bản và trích xuất đặc trưng\n",
    "  * **Tiền xử lý văn bản**: Đã được cài đặt ở phần trên (hàm `vietnamese_text_preprocessing`)\n",
    "  * **Trích xuất đặc trưng**: Văn bản -> Ma trận đặc trưng TF-IDF (`sklearn.feature_extraction.text.TfidfVectorizer` - https://scikit-learn.org/stable/modules/generated/sklearn.feature_extraction.text.TfidfVectorizer.html)\n",
    "* **Mô hình phân lớp mạng neural MLPClassifier** (`sklearn.neural_network.MLPClassifier` - https://scikit-learn.org/stable/modules/generated/sklearn.neural_network.MLPClassifier.html)"
   ]
  },
  {
   "cell_type": "code",
   "execution_count": 8,
   "metadata": {
    "id": "EVnVUazCOPXM"
   },
   "outputs": [],
   "source": [
    "class PreprocessAndFeaturesExtract(BaseEstimator, TransformerMixin):\n",
    "    def __init__(self):\n",
    "        # print(\"> PreprocessAndFeaturesExtract > INIT\")\n",
    "        self.trained_tokens = []\n",
    "\n",
    "    # ===============================================================\n",
    "    # Mỗi lần train chỉ gọi 1 lần fit\n",
    "    # Mỗi lần fit thì sẽ tạo 1 list trained_tokens, bao gồm những tokens/đặc trưng đã được train\n",
    "    # ===============================================================\n",
    "    def fit(self, X_df, y=None):\n",
    "\n",
    "        # Return a list of preprocessed_texts\n",
    "        preprocessed_texts = []\n",
    "        for index, row in X_df.iterrows():\n",
    "            tokens = vietnamese_text_preprocessing(row['text'])\n",
    "            preprocessed_texts.append(' '.join(tokens))\n",
    "        preprocessed_texts = np.array(preprocessed_texts)\n",
    "\n",
    "        # preprocessed_texts -> features\n",
    "        tv = TfidfVectorizer(min_df = 0.0, max_df = 1.0, use_idf = True)\n",
    "        tv_matrix = tv.fit_transform(preprocessed_texts)\n",
    "        tv_matrix = tv_matrix.toarray()\n",
    "#         df_features = pd.DataFrame(np.round(tv_matrix, 2), columns = tv.get_feature_names_out())\n",
    "        df_features = pd.DataFrame(np.round(tv_matrix, 2), columns = tv.get_feature_names())\n",
    "\n",
    "        self.trained_tokens = df_features.columns.values\n",
    "\n",
    "        # print(f\"> PreprocessAndFeaturesExtract > FIT > X_df: {X_df.shape} > df_features: {df_features.shape}\")\n",
    "        # print(f\"self.trained_tokens: {self.trained_tokens}\")\n",
    "\n",
    "        return self\n",
    "\n",
    "    # ===============================================================\n",
    "    # Khá giống phương thức fit (ở bước tiền xử lý, và trích xuất đặc trưng), tuy nhiên:\n",
    "    # fit:       Gọi 1 lần duy nhất mỗi lần train\n",
    "    # transform: Được gọi nhiều lần, và có thể áp dụng với nhiều X_df khác nhau (để tính score hay predict chẳng hạn),\n",
    "    #            dựa trên cái model đã được train trước đó bằng fit\n",
    "    # ===============================================================\n",
    "    # fit tạo mới self.trained_tokens, transform thì không\n",
    "    # ===============================================================\n",
    "    # transform được cài đặt để trả về những đặc trưng ĐÃ được học,\n",
    "    # những đặc trưng chưa học thì sẽ bỏ qua\n",
    "    # ===============================================================\n",
    "    def transform(self, X_df, y=None):\n",
    "\n",
    "        # Return a list of preprocessed_texts\n",
    "        preprocessed_texts = []\n",
    "        for index, row in X_df.iterrows():\n",
    "            tokens = vietnamese_text_preprocessing(row['text'])\n",
    "            preprocessed_texts.append(' '.join(tokens))\n",
    "        preprocessed_texts = np.array(preprocessed_texts)\n",
    "\n",
    "        # Features Extraction\n",
    "        # preprocessed_texts -> features\n",
    "        # TF-IDF Model\n",
    "        tv = TfidfVectorizer(min_df = 0.0, max_df = 1.0, use_idf = True)\n",
    "        tv_matrix = tv.fit_transform(preprocessed_texts)\n",
    "        tv_matrix = tv_matrix.toarray()\n",
    "#         vocab = tv.get_feature_names_out()\n",
    "        vocab = tv.get_feature_names()\n",
    "        temp_df_features = pd.DataFrame(np.round(tv_matrix, 2), columns=vocab)\n",
    "\n",
    "        df_features = pd.DataFrame()\n",
    "\n",
    "        for trained_token in self.trained_tokens:\n",
    "            if trained_token in vocab:\n",
    "                df_features[trained_token] = temp_df_features[trained_token]\n",
    "            else:\n",
    "                df_features[trained_token] = 0.000\n",
    "\n",
    "        # print(f\"\\n> PreprocessAndFeaturesExtract > TRANSFORM > X_df: {X_df.shape} > df_features: {df_features.shape}\")\n",
    "\n",
    "        return df_features"
   ]
  },
  {
   "cell_type": "code",
   "execution_count": 9,
   "metadata": {
    "colab": {
     "base_uri": "https://localhost:8080/",
     "height": 126
    },
    "id": "UygWu9YGZBcY",
    "outputId": "e3fb94bf-fcc1-4237-aed2-93204530fd21"
   },
   "outputs": [
    {
     "data": {
      "text/html": [
       "<style>#sk-32ddd90d-4e8c-4a20-9354-b06d36fef620 {color: black;background-color: white;}#sk-32ddd90d-4e8c-4a20-9354-b06d36fef620 pre{padding: 0;}#sk-32ddd90d-4e8c-4a20-9354-b06d36fef620 div.sk-toggleable {background-color: white;}#sk-32ddd90d-4e8c-4a20-9354-b06d36fef620 label.sk-toggleable__label {cursor: pointer;display: block;width: 100%;margin-bottom: 0;padding: 0.2em 0.3em;box-sizing: border-box;text-align: center;}#sk-32ddd90d-4e8c-4a20-9354-b06d36fef620 div.sk-toggleable__content {max-height: 0;max-width: 0;overflow: hidden;text-align: left;background-color: #f0f8ff;}#sk-32ddd90d-4e8c-4a20-9354-b06d36fef620 div.sk-toggleable__content pre {margin: 0.2em;color: black;border-radius: 0.25em;background-color: #f0f8ff;}#sk-32ddd90d-4e8c-4a20-9354-b06d36fef620 input.sk-toggleable__control:checked~div.sk-toggleable__content {max-height: 200px;max-width: 100%;overflow: auto;}#sk-32ddd90d-4e8c-4a20-9354-b06d36fef620 div.sk-estimator input.sk-toggleable__control:checked~label.sk-toggleable__label {background-color: #d4ebff;}#sk-32ddd90d-4e8c-4a20-9354-b06d36fef620 div.sk-label input.sk-toggleable__control:checked~label.sk-toggleable__label {background-color: #d4ebff;}#sk-32ddd90d-4e8c-4a20-9354-b06d36fef620 input.sk-hidden--visually {border: 0;clip: rect(1px 1px 1px 1px);clip: rect(1px, 1px, 1px, 1px);height: 1px;margin: -1px;overflow: hidden;padding: 0;position: absolute;width: 1px;}#sk-32ddd90d-4e8c-4a20-9354-b06d36fef620 div.sk-estimator {font-family: monospace;background-color: #f0f8ff;margin: 0.25em 0.25em;border: 1px dotted black;border-radius: 0.25em;box-sizing: border-box;}#sk-32ddd90d-4e8c-4a20-9354-b06d36fef620 div.sk-estimator:hover {background-color: #d4ebff;}#sk-32ddd90d-4e8c-4a20-9354-b06d36fef620 div.sk-parallel-item::after {content: \"\";width: 100%;border-bottom: 1px solid gray;flex-grow: 1;}#sk-32ddd90d-4e8c-4a20-9354-b06d36fef620 div.sk-label:hover label.sk-toggleable__label {background-color: #d4ebff;}#sk-32ddd90d-4e8c-4a20-9354-b06d36fef620 div.sk-serial::before {content: \"\";position: absolute;border-left: 1px solid gray;box-sizing: border-box;top: 2em;bottom: 0;left: 50%;}#sk-32ddd90d-4e8c-4a20-9354-b06d36fef620 div.sk-serial {display: flex;flex-direction: column;align-items: center;background-color: white;}#sk-32ddd90d-4e8c-4a20-9354-b06d36fef620 div.sk-item {z-index: 1;}#sk-32ddd90d-4e8c-4a20-9354-b06d36fef620 div.sk-parallel {display: flex;align-items: stretch;justify-content: center;background-color: white;}#sk-32ddd90d-4e8c-4a20-9354-b06d36fef620 div.sk-parallel-item {display: flex;flex-direction: column;position: relative;background-color: white;}#sk-32ddd90d-4e8c-4a20-9354-b06d36fef620 div.sk-parallel-item:first-child::after {align-self: flex-end;width: 50%;}#sk-32ddd90d-4e8c-4a20-9354-b06d36fef620 div.sk-parallel-item:last-child::after {align-self: flex-start;width: 50%;}#sk-32ddd90d-4e8c-4a20-9354-b06d36fef620 div.sk-parallel-item:only-child::after {width: 0;}#sk-32ddd90d-4e8c-4a20-9354-b06d36fef620 div.sk-dashed-wrapped {border: 1px dashed gray;margin: 0.2em;box-sizing: border-box;padding-bottom: 0.1em;background-color: white;position: relative;}#sk-32ddd90d-4e8c-4a20-9354-b06d36fef620 div.sk-label label {font-family: monospace;font-weight: bold;background-color: white;display: inline-block;line-height: 1.2em;}#sk-32ddd90d-4e8c-4a20-9354-b06d36fef620 div.sk-label-container {position: relative;z-index: 2;text-align: center;}#sk-32ddd90d-4e8c-4a20-9354-b06d36fef620 div.sk-container {display: inline-block;position: relative;}</style><div id=\"sk-32ddd90d-4e8c-4a20-9354-b06d36fef620\" class\"sk-top-container\"><div class=\"sk-container\"><div class=\"sk-item sk-dashed-wrapped\"><div class=\"sk-label-container\"><div class=\"sk-label sk-toggleable\"><input class=\"sk-toggleable__control sk-hidden--visually\" id=\"7ba6b043-9226-4715-84f4-c7dae168b36f\" type=\"checkbox\" ><label class=\"sk-toggleable__label\" for=\"7ba6b043-9226-4715-84f4-c7dae168b36f\">Pipeline</label><div class=\"sk-toggleable__content\"><pre>Pipeline(steps=[('vnpreprocess', PreprocessAndFeaturesExtract()),\n",
       "                ('mlpclassifier',\n",
       "                 MLPClassifier(hidden_layer_sizes=50, max_iter=10000,\n",
       "                               random_state=0, solver='lbfgs'))])</pre></div></div></div><div class=\"sk-serial\"><div class=\"sk-item\"><div class=\"sk-estimator sk-toggleable\"><input class=\"sk-toggleable__control sk-hidden--visually\" id=\"53c642c6-e476-4a5a-9241-8b218e1d7987\" type=\"checkbox\" ><label class=\"sk-toggleable__label\" for=\"53c642c6-e476-4a5a-9241-8b218e1d7987\">PreprocessAndFeaturesExtract</label><div class=\"sk-toggleable__content\"><pre>PreprocessAndFeaturesExtract()</pre></div></div></div><div class=\"sk-item\"><div class=\"sk-estimator sk-toggleable\"><input class=\"sk-toggleable__control sk-hidden--visually\" id=\"cd491ed7-5bf6-4de2-ae3c-7f95566aa237\" type=\"checkbox\" ><label class=\"sk-toggleable__label\" for=\"cd491ed7-5bf6-4de2-ae3c-7f95566aa237\">MLPClassifier</label><div class=\"sk-toggleable__content\"><pre>MLPClassifier(hidden_layer_sizes=50, max_iter=10000, random_state=0,\n",
       "              solver='lbfgs')</pre></div></div></div></div></div></div></div>"
      ],
      "text/plain": [
       "Pipeline(steps=[('vnpreprocess', PreprocessAndFeaturesExtract()),\n",
       "                ('mlpclassifier',\n",
       "                 MLPClassifier(hidden_layer_sizes=50, max_iter=10000,\n",
       "                               random_state=0, solver='lbfgs'))])"
      ]
     },
     "execution_count": 9,
     "metadata": {},
     "output_type": "execute_result"
    }
   ],
   "source": [
    "# MLPClassifier\n",
    "mlp_classifier = MLPClassifier(\n",
    "    hidden_layer_sizes=(50),\n",
    "    activation='relu',\n",
    "    solver='lbfgs',\n",
    "    random_state=0,\n",
    "    max_iter=10000\n",
    ")\n",
    "\n",
    "# Pipeline: PreprocessAndFeaturesExtract -> MLPClassifier\n",
    "pipeline_mlp = Pipeline(\n",
    "    steps=[\n",
    "           (\"vnpreprocess\", PreprocessAndFeaturesExtract()),\n",
    "           (\"mlpclassifier\", mlp_classifier)\n",
    "           ]\n",
    ")\n",
    "pipeline_mlp"
   ]
  },
  {
   "cell_type": "markdown",
   "metadata": {
    "id": "K-Dxt3MVQ5aQ"
   },
   "source": [
    "#### Train\n",
    "\n",
    "Tiến hành huấn luyện mô hình trên tập train"
   ]
  },
  {
   "cell_type": "code",
   "execution_count": 10,
   "metadata": {
    "colab": {
     "base_uri": "https://localhost:8080/"
    },
    "id": "0no_DNhzbsqR",
    "outputId": "0b750bc0-bb3b-4507-fdf3-77671b5e9fd7"
   },
   "outputs": [
    {
     "name": "stdout",
     "output_type": "stream",
     "text": [
      "> Train completed\n"
     ]
    }
   ],
   "source": [
    "pipeline_mlp.fit(train_X_df, train_Y_sr)\n",
    "print(\"> Train completed\")"
   ]
  },
  {
   "cell_type": "markdown",
   "metadata": {
    "id": "nRnlrIqARBI0"
   },
   "source": [
    "#### Score\n",
    "\n",
    "Tính accuracy của mô hình, sử dụng lần lượt tập train và tập validation."
   ]
  },
  {
   "cell_type": "code",
   "execution_count": 11,
   "metadata": {
    "colab": {
     "base_uri": "https://localhost:8080/"
    },
    "id": "SpqE_JWqRDp8",
    "outputId": "a2b06415-c442-4c97-8094-37e809bd8822"
   },
   "outputs": [
    {
     "name": "stdout",
     "output_type": "stream",
     "text": [
      "Train Accuracy = 1.0\n",
      "Validation Accuracy = 0.8888888888888888\n"
     ]
    }
   ],
   "source": [
    "train_acc = pipeline_mlp.score(train_X_df, train_Y_sr)\n",
    "print(f\"Train Accuracy = {train_acc}\")\n",
    "\n",
    "val_acc = pipeline_mlp.score(val_X_df, val_Y_sr)\n",
    "print(f\"Validation Accuracy = {val_acc}\")"
   ]
  },
  {
   "cell_type": "markdown",
   "metadata": {
    "id": "U_6Gyu2gSTBf"
   },
   "source": [
    "#### Predict\n",
    "\n",
    "Dự đoán label của văn bản mới"
   ]
  },
  {
   "cell_type": "code",
   "execution_count": 12,
   "metadata": {
    "id": "BLWAFrowSWO1"
   },
   "outputs": [],
   "source": [
    "# # Nếu có 1 tập muốn predict, tên \"predict_X_df\", thì predict tập đó như sau:\n",
    "# pred_results = pipeline_mlp.predict(predict_X_df)\n",
    "# pred_results"
   ]
  },
  {
   "cell_type": "markdown",
   "metadata": {},
   "source": [
    "# Decision Tree\n",
    "\n",
    "### Xây dựng mô hình cây quyết định với 2 bước:\n",
    "\n",
    "- Tiền xử lí (sử dụng hàm PreprocessAndFeaturesExtract)\n",
    "- Xây dựng cây quyết định sử dụng DecisionTreeClassifier trong thư viện sklearn."
   ]
  },
  {
   "cell_type": "code",
   "execution_count": 15,
   "metadata": {},
   "outputs": [
    {
     "data": {
      "text/html": [
       "<style>#sk-e93dcc6f-fa26-447d-83d9-795070d526d6 {color: black;background-color: white;}#sk-e93dcc6f-fa26-447d-83d9-795070d526d6 pre{padding: 0;}#sk-e93dcc6f-fa26-447d-83d9-795070d526d6 div.sk-toggleable {background-color: white;}#sk-e93dcc6f-fa26-447d-83d9-795070d526d6 label.sk-toggleable__label {cursor: pointer;display: block;width: 100%;margin-bottom: 0;padding: 0.2em 0.3em;box-sizing: border-box;text-align: center;}#sk-e93dcc6f-fa26-447d-83d9-795070d526d6 div.sk-toggleable__content {max-height: 0;max-width: 0;overflow: hidden;text-align: left;background-color: #f0f8ff;}#sk-e93dcc6f-fa26-447d-83d9-795070d526d6 div.sk-toggleable__content pre {margin: 0.2em;color: black;border-radius: 0.25em;background-color: #f0f8ff;}#sk-e93dcc6f-fa26-447d-83d9-795070d526d6 input.sk-toggleable__control:checked~div.sk-toggleable__content {max-height: 200px;max-width: 100%;overflow: auto;}#sk-e93dcc6f-fa26-447d-83d9-795070d526d6 div.sk-estimator input.sk-toggleable__control:checked~label.sk-toggleable__label {background-color: #d4ebff;}#sk-e93dcc6f-fa26-447d-83d9-795070d526d6 div.sk-label input.sk-toggleable__control:checked~label.sk-toggleable__label {background-color: #d4ebff;}#sk-e93dcc6f-fa26-447d-83d9-795070d526d6 input.sk-hidden--visually {border: 0;clip: rect(1px 1px 1px 1px);clip: rect(1px, 1px, 1px, 1px);height: 1px;margin: -1px;overflow: hidden;padding: 0;position: absolute;width: 1px;}#sk-e93dcc6f-fa26-447d-83d9-795070d526d6 div.sk-estimator {font-family: monospace;background-color: #f0f8ff;margin: 0.25em 0.25em;border: 1px dotted black;border-radius: 0.25em;box-sizing: border-box;}#sk-e93dcc6f-fa26-447d-83d9-795070d526d6 div.sk-estimator:hover {background-color: #d4ebff;}#sk-e93dcc6f-fa26-447d-83d9-795070d526d6 div.sk-parallel-item::after {content: \"\";width: 100%;border-bottom: 1px solid gray;flex-grow: 1;}#sk-e93dcc6f-fa26-447d-83d9-795070d526d6 div.sk-label:hover label.sk-toggleable__label {background-color: #d4ebff;}#sk-e93dcc6f-fa26-447d-83d9-795070d526d6 div.sk-serial::before {content: \"\";position: absolute;border-left: 1px solid gray;box-sizing: border-box;top: 2em;bottom: 0;left: 50%;}#sk-e93dcc6f-fa26-447d-83d9-795070d526d6 div.sk-serial {display: flex;flex-direction: column;align-items: center;background-color: white;}#sk-e93dcc6f-fa26-447d-83d9-795070d526d6 div.sk-item {z-index: 1;}#sk-e93dcc6f-fa26-447d-83d9-795070d526d6 div.sk-parallel {display: flex;align-items: stretch;justify-content: center;background-color: white;}#sk-e93dcc6f-fa26-447d-83d9-795070d526d6 div.sk-parallel-item {display: flex;flex-direction: column;position: relative;background-color: white;}#sk-e93dcc6f-fa26-447d-83d9-795070d526d6 div.sk-parallel-item:first-child::after {align-self: flex-end;width: 50%;}#sk-e93dcc6f-fa26-447d-83d9-795070d526d6 div.sk-parallel-item:last-child::after {align-self: flex-start;width: 50%;}#sk-e93dcc6f-fa26-447d-83d9-795070d526d6 div.sk-parallel-item:only-child::after {width: 0;}#sk-e93dcc6f-fa26-447d-83d9-795070d526d6 div.sk-dashed-wrapped {border: 1px dashed gray;margin: 0.2em;box-sizing: border-box;padding-bottom: 0.1em;background-color: white;position: relative;}#sk-e93dcc6f-fa26-447d-83d9-795070d526d6 div.sk-label label {font-family: monospace;font-weight: bold;background-color: white;display: inline-block;line-height: 1.2em;}#sk-e93dcc6f-fa26-447d-83d9-795070d526d6 div.sk-label-container {position: relative;z-index: 2;text-align: center;}#sk-e93dcc6f-fa26-447d-83d9-795070d526d6 div.sk-container {display: inline-block;position: relative;}</style><div id=\"sk-e93dcc6f-fa26-447d-83d9-795070d526d6\" class\"sk-top-container\"><div class=\"sk-container\"><div class=\"sk-item sk-dashed-wrapped\"><div class=\"sk-label-container\"><div class=\"sk-label sk-toggleable\"><input class=\"sk-toggleable__control sk-hidden--visually\" id=\"9df985b6-dcd1-440e-98b4-f17a32f52dab\" type=\"checkbox\" ><label class=\"sk-toggleable__label\" for=\"9df985b6-dcd1-440e-98b4-f17a32f52dab\">Pipeline</label><div class=\"sk-toggleable__content\"><pre>Pipeline(steps=[('extractfeatures', PreprocessAndFeaturesExtract()),\n",
       "                ('DecisionTree', DecisionTreeClassifier(criterion='entropy'))])</pre></div></div></div><div class=\"sk-serial\"><div class=\"sk-item\"><div class=\"sk-estimator sk-toggleable\"><input class=\"sk-toggleable__control sk-hidden--visually\" id=\"6b3da044-904f-407f-a70a-7f2b20b23503\" type=\"checkbox\" ><label class=\"sk-toggleable__label\" for=\"6b3da044-904f-407f-a70a-7f2b20b23503\">PreprocessAndFeaturesExtract</label><div class=\"sk-toggleable__content\"><pre>PreprocessAndFeaturesExtract()</pre></div></div></div><div class=\"sk-item\"><div class=\"sk-estimator sk-toggleable\"><input class=\"sk-toggleable__control sk-hidden--visually\" id=\"e6c989ef-97a7-4bee-b4a0-eab6bf0cbffc\" type=\"checkbox\" ><label class=\"sk-toggleable__label\" for=\"e6c989ef-97a7-4bee-b4a0-eab6bf0cbffc\">DecisionTreeClassifier</label><div class=\"sk-toggleable__content\"><pre>DecisionTreeClassifier(criterion='entropy')</pre></div></div></div></div></div></div></div>"
      ],
      "text/plain": [
       "Pipeline(steps=[('extractfeatures', PreprocessAndFeaturesExtract()),\n",
       "                ('DecisionTree', DecisionTreeClassifier(criterion='entropy'))])"
      ]
     },
     "execution_count": 15,
     "metadata": {},
     "output_type": "execute_result"
    }
   ],
   "source": [
    "dtc = DecisionTreeClassifier(criterion='entropy')\n",
    "dtcPipeline = Pipeline(steps = [('extractfeatures',PreprocessAndFeaturesExtract()),('DecisionTree',dtc)])\n",
    "dtcPipeline"
   ]
  },
  {
   "cell_type": "markdown",
   "metadata": {},
   "source": [
    "### Thực hiện tách các tập và train mô hình"
   ]
  },
  {
   "cell_type": "code",
   "execution_count": 16,
   "metadata": {},
   "outputs": [
    {
     "name": "stdout",
     "output_type": "stream",
     "text": [
      "Wall time: 59.3 s\n"
     ]
    },
    {
     "data": {
      "text/html": [
       "<style>#sk-9f0ce4c8-2073-47ef-b954-59a22751ce67 {color: black;background-color: white;}#sk-9f0ce4c8-2073-47ef-b954-59a22751ce67 pre{padding: 0;}#sk-9f0ce4c8-2073-47ef-b954-59a22751ce67 div.sk-toggleable {background-color: white;}#sk-9f0ce4c8-2073-47ef-b954-59a22751ce67 label.sk-toggleable__label {cursor: pointer;display: block;width: 100%;margin-bottom: 0;padding: 0.2em 0.3em;box-sizing: border-box;text-align: center;}#sk-9f0ce4c8-2073-47ef-b954-59a22751ce67 div.sk-toggleable__content {max-height: 0;max-width: 0;overflow: hidden;text-align: left;background-color: #f0f8ff;}#sk-9f0ce4c8-2073-47ef-b954-59a22751ce67 div.sk-toggleable__content pre {margin: 0.2em;color: black;border-radius: 0.25em;background-color: #f0f8ff;}#sk-9f0ce4c8-2073-47ef-b954-59a22751ce67 input.sk-toggleable__control:checked~div.sk-toggleable__content {max-height: 200px;max-width: 100%;overflow: auto;}#sk-9f0ce4c8-2073-47ef-b954-59a22751ce67 div.sk-estimator input.sk-toggleable__control:checked~label.sk-toggleable__label {background-color: #d4ebff;}#sk-9f0ce4c8-2073-47ef-b954-59a22751ce67 div.sk-label input.sk-toggleable__control:checked~label.sk-toggleable__label {background-color: #d4ebff;}#sk-9f0ce4c8-2073-47ef-b954-59a22751ce67 input.sk-hidden--visually {border: 0;clip: rect(1px 1px 1px 1px);clip: rect(1px, 1px, 1px, 1px);height: 1px;margin: -1px;overflow: hidden;padding: 0;position: absolute;width: 1px;}#sk-9f0ce4c8-2073-47ef-b954-59a22751ce67 div.sk-estimator {font-family: monospace;background-color: #f0f8ff;margin: 0.25em 0.25em;border: 1px dotted black;border-radius: 0.25em;box-sizing: border-box;}#sk-9f0ce4c8-2073-47ef-b954-59a22751ce67 div.sk-estimator:hover {background-color: #d4ebff;}#sk-9f0ce4c8-2073-47ef-b954-59a22751ce67 div.sk-parallel-item::after {content: \"\";width: 100%;border-bottom: 1px solid gray;flex-grow: 1;}#sk-9f0ce4c8-2073-47ef-b954-59a22751ce67 div.sk-label:hover label.sk-toggleable__label {background-color: #d4ebff;}#sk-9f0ce4c8-2073-47ef-b954-59a22751ce67 div.sk-serial::before {content: \"\";position: absolute;border-left: 1px solid gray;box-sizing: border-box;top: 2em;bottom: 0;left: 50%;}#sk-9f0ce4c8-2073-47ef-b954-59a22751ce67 div.sk-serial {display: flex;flex-direction: column;align-items: center;background-color: white;}#sk-9f0ce4c8-2073-47ef-b954-59a22751ce67 div.sk-item {z-index: 1;}#sk-9f0ce4c8-2073-47ef-b954-59a22751ce67 div.sk-parallel {display: flex;align-items: stretch;justify-content: center;background-color: white;}#sk-9f0ce4c8-2073-47ef-b954-59a22751ce67 div.sk-parallel-item {display: flex;flex-direction: column;position: relative;background-color: white;}#sk-9f0ce4c8-2073-47ef-b954-59a22751ce67 div.sk-parallel-item:first-child::after {align-self: flex-end;width: 50%;}#sk-9f0ce4c8-2073-47ef-b954-59a22751ce67 div.sk-parallel-item:last-child::after {align-self: flex-start;width: 50%;}#sk-9f0ce4c8-2073-47ef-b954-59a22751ce67 div.sk-parallel-item:only-child::after {width: 0;}#sk-9f0ce4c8-2073-47ef-b954-59a22751ce67 div.sk-dashed-wrapped {border: 1px dashed gray;margin: 0.2em;box-sizing: border-box;padding-bottom: 0.1em;background-color: white;position: relative;}#sk-9f0ce4c8-2073-47ef-b954-59a22751ce67 div.sk-label label {font-family: monospace;font-weight: bold;background-color: white;display: inline-block;line-height: 1.2em;}#sk-9f0ce4c8-2073-47ef-b954-59a22751ce67 div.sk-label-container {position: relative;z-index: 2;text-align: center;}#sk-9f0ce4c8-2073-47ef-b954-59a22751ce67 div.sk-container {display: inline-block;position: relative;}</style><div id=\"sk-9f0ce4c8-2073-47ef-b954-59a22751ce67\" class\"sk-top-container\"><div class=\"sk-container\"><div class=\"sk-item sk-dashed-wrapped\"><div class=\"sk-label-container\"><div class=\"sk-label sk-toggleable\"><input class=\"sk-toggleable__control sk-hidden--visually\" id=\"95654e58-04a0-4d90-9268-a497cf25d380\" type=\"checkbox\" ><label class=\"sk-toggleable__label\" for=\"95654e58-04a0-4d90-9268-a497cf25d380\">Pipeline</label><div class=\"sk-toggleable__content\"><pre>Pipeline(steps=[('extractfeatures', PreprocessAndFeaturesExtract()),\n",
       "                ('DecisionTree', DecisionTreeClassifier(criterion='entropy'))])</pre></div></div></div><div class=\"sk-serial\"><div class=\"sk-item\"><div class=\"sk-estimator sk-toggleable\"><input class=\"sk-toggleable__control sk-hidden--visually\" id=\"261bb8db-ae15-4e69-b327-22eb74dd6822\" type=\"checkbox\" ><label class=\"sk-toggleable__label\" for=\"261bb8db-ae15-4e69-b327-22eb74dd6822\">PreprocessAndFeaturesExtract</label><div class=\"sk-toggleable__content\"><pre>PreprocessAndFeaturesExtract()</pre></div></div></div><div class=\"sk-item\"><div class=\"sk-estimator sk-toggleable\"><input class=\"sk-toggleable__control sk-hidden--visually\" id=\"489d368c-caa2-4497-a874-e866dac2e2fb\" type=\"checkbox\" ><label class=\"sk-toggleable__label\" for=\"489d368c-caa2-4497-a874-e866dac2e2fb\">DecisionTreeClassifier</label><div class=\"sk-toggleable__content\"><pre>DecisionTreeClassifier(criterion='entropy')</pre></div></div></div></div></div></div></div>"
      ],
      "text/plain": [
       "Pipeline(steps=[('extractfeatures', PreprocessAndFeaturesExtract()),\n",
       "                ('DecisionTree', DecisionTreeClassifier(criterion='entropy'))])"
      ]
     },
     "execution_count": 16,
     "metadata": {},
     "output_type": "execute_result"
    }
   ],
   "source": [
    "%%time\n",
    "dtcPipeline.fit(train_X_df, train_Y_sr)"
   ]
  },
  {
   "cell_type": "code",
   "execution_count": 17,
   "metadata": {},
   "outputs": [
    {
     "data": {
      "text/plain": [
       "1.0"
      ]
     },
     "execution_count": 17,
     "metadata": {},
     "output_type": "execute_result"
    }
   ],
   "source": [
    "dtcPipeline.score(train_X_df, train_Y_sr)"
   ]
  },
  {
   "cell_type": "code",
   "execution_count": 18,
   "metadata": {},
   "outputs": [
    {
     "data": {
      "text/plain": [
       "0.7777777777777778"
      ]
     },
     "execution_count": 18,
     "metadata": {},
     "output_type": "execute_result"
    }
   ],
   "source": [
    "dtcPipeline.score(val_X_df, val_Y_sr)"
   ]
  },
  {
   "cell_type": "markdown",
   "metadata": {},
   "source": [
    "### Thay đổi các tham số để cải tiến mô hình\n",
    "\n",
    "Ta có thế cải tiến mô hình bằng cách thay đổi các siêu tham số trong mô hình. Ở đây ta xem xét siêu tham số `ccp_alpha` của `DecisionTreeClassifier`.\n",
    "\n",
    "Việc tăng siêu tham số `ccp_alpha` sẽ làm tăng số lượng node bị loại bỏ khi thực hiện thao tác tỉa cây. Từ đó giúp mô hình không bị overfitting. [Tham khảo](https://scikit-learn.org/stable/auto_examples/tree/plot_cost_complexity_pruning.html#sphx-glr-auto-examples-tree-plot-cost-complexity-pruning-py)"
   ]
  },
  {
   "cell_type": "code",
   "execution_count": 19,
   "metadata": {},
   "outputs": [],
   "source": [
    "path = dtcPipeline['DecisionTree'].cost_complexity_pruning_path(dtcPipeline[:-1].transform(train_X_df), train_Y_sr)\n",
    "ccp_alphas, impurities = path.ccp_alphas, path.impurities"
   ]
  },
  {
   "cell_type": "markdown",
   "metadata": {},
   "source": [
    "Xem xét sự biến đổi của **impurity** của các node với sự biến đổi của siêu tham số `ccp_alpha`."
   ]
  },
  {
   "cell_type": "code",
   "execution_count": 20,
   "metadata": {},
   "outputs": [
    {
     "data": {
      "image/png": "[encoded data removed]",
      "text/plain": [
       "<Figure size 432x288 with 1 Axes>"
      ]
     },
     "metadata": {
      "needs_background": "light"
     },
     "output_type": "display_data"
    }
   ],
   "source": [
    "fig, ax = plt.subplots()\n",
    "ax.plot(ccp_alphas[:-1], impurities[:-1], marker=\"o\", drawstyle=\"steps-post\")\n",
    "ax.set_xlabel(\"Effective ccp_alpha\")\n",
    "ax.set_ylabel(\"Total impurity of leaves\")\n",
    "ax.set_title(\"Total Impurity vs effective alpha for training set\");"
   ]
  },
  {
   "cell_type": "markdown",
   "metadata": {},
   "source": [
    "Thay đổi siêu tham số `ccp_alpha` để tìm ra mô hình tốt nhất."
   ]
  },
  {
   "cell_type": "code",
   "execution_count": 21,
   "metadata": {},
   "outputs": [
    {
     "name": "stdout",
     "output_type": "stream",
     "text": [
      "Wall time: 26min 12s\n"
     ]
    }
   ],
   "source": [
    "%%time\n",
    "train_accs = []\n",
    "test_accs = []\n",
    "best_test_acc = 0\n",
    "best_ccp_alpha = None\n",
    "for ca in ccp_alphas:\n",
    "    dtcPipeline.set_params(DecisionTree__ccp_alpha = ca)\n",
    "    dtcPipeline.fit(train_X_df, train_Y_sr)        \n",
    "    train_accs.append(dtcPipeline.score(train_X_df, train_Y_sr))\n",
    "    test_accs.append(dtcPipeline.score(val_X_df, val_Y_sr))\n",
    "    if test_accs[-1] > best_test_acc:\n",
    "        best_test_acc = test_accs[-1]\n",
    "        best_ccp_alpha = ca"
   ]
  },
  {
   "cell_type": "markdown",
   "metadata": {},
   "source": [
    "Trực quan hóa kết quả **Accuracy** của các mô hình trên tập **train** và **test** khi thay đổi siêu tham số `ccp_alpha`."
   ]
  },
  {
   "cell_type": "code",
   "execution_count": 22,
   "metadata": {},
   "outputs": [
    {
     "data": {
      "image/png": "[encoded data removed]",
      "text/plain": [
       "<Figure size 432x288 with 1 Axes>"
      ]
     },
     "metadata": {
      "needs_background": "light"
     },
     "output_type": "display_data"
    }
   ],
   "source": [
    "fig, ax = plt.subplots()\n",
    "ax.set_xlabel(\"ccp_alpha\")\n",
    "ax.set_ylabel(\"Accuracy\")\n",
    "ax.set_title(\"Test accuracy\")\n",
    "ax.plot(ccp_alphas, train_accs, marker=\"o\", label=\"train\", drawstyle=\"steps-post\")\n",
    "ax.plot(ccp_alphas, test_accs, marker=\"o\", label=\"test\", drawstyle=\"steps-post\")\n",
    "ax.legend()\n",
    "plt.show()"
   ]
  },
  {
   "cell_type": "code",
   "execution_count": 23,
   "metadata": {},
   "outputs": [
    {
     "name": "stdout",
     "output_type": "stream",
     "text": [
      "Best test accuracy = 0.8444444444444444 with ccp_alpha = 0.0626042890416388 \n"
     ]
    }
   ],
   "source": [
    "print(f'Best test accuracy = {best_test_acc} with ccp_alpha = {best_ccp_alpha} ')"
   ]
  },
  {
   "cell_type": "markdown",
   "metadata": {},
   "source": [
    "Gán lại `ccp_alpha` và `fit` mô hình trên toàn bộ dữ liệu. Như vậy ta đã có được mô hình cuối cùng."
   ]
  },
  {
   "cell_type": "code",
   "execution_count": 25,
   "metadata": {},
   "outputs": [
    {
     "data": {
      "text/html": [
       "<style>#sk-922940fa-a55e-4055-928c-9cc1e3f08fbc {color: black;background-color: white;}#sk-922940fa-a55e-4055-928c-9cc1e3f08fbc pre{padding: 0;}#sk-922940fa-a55e-4055-928c-9cc1e3f08fbc div.sk-toggleable {background-color: white;}#sk-922940fa-a55e-4055-928c-9cc1e3f08fbc label.sk-toggleable__label {cursor: pointer;display: block;width: 100%;margin-bottom: 0;padding: 0.2em 0.3em;box-sizing: border-box;text-align: center;}#sk-922940fa-a55e-4055-928c-9cc1e3f08fbc div.sk-toggleable__content {max-height: 0;max-width: 0;overflow: hidden;text-align: left;background-color: #f0f8ff;}#sk-922940fa-a55e-4055-928c-9cc1e3f08fbc div.sk-toggleable__content pre {margin: 0.2em;color: black;border-radius: 0.25em;background-color: #f0f8ff;}#sk-922940fa-a55e-4055-928c-9cc1e3f08fbc input.sk-toggleable__control:checked~div.sk-toggleable__content {max-height: 200px;max-width: 100%;overflow: auto;}#sk-922940fa-a55e-4055-928c-9cc1e3f08fbc div.sk-estimator input.sk-toggleable__control:checked~label.sk-toggleable__label {background-color: #d4ebff;}#sk-922940fa-a55e-4055-928c-9cc1e3f08fbc div.sk-label input.sk-toggleable__control:checked~label.sk-toggleable__label {background-color: #d4ebff;}#sk-922940fa-a55e-4055-928c-9cc1e3f08fbc input.sk-hidden--visually {border: 0;clip: rect(1px 1px 1px 1px);clip: rect(1px, 1px, 1px, 1px);height: 1px;margin: -1px;overflow: hidden;padding: 0;position: absolute;width: 1px;}#sk-922940fa-a55e-4055-928c-9cc1e3f08fbc div.sk-estimator {font-family: monospace;background-color: #f0f8ff;margin: 0.25em 0.25em;border: 1px dotted black;border-radius: 0.25em;box-sizing: border-box;}#sk-922940fa-a55e-4055-928c-9cc1e3f08fbc div.sk-estimator:hover {background-color: #d4ebff;}#sk-922940fa-a55e-4055-928c-9cc1e3f08fbc div.sk-parallel-item::after {content: \"\";width: 100%;border-bottom: 1px solid gray;flex-grow: 1;}#sk-922940fa-a55e-4055-928c-9cc1e3f08fbc div.sk-label:hover label.sk-toggleable__label {background-color: #d4ebff;}#sk-922940fa-a55e-4055-928c-9cc1e3f08fbc div.sk-serial::before {content: \"\";position: absolute;border-left: 1px solid gray;box-sizing: border-box;top: 2em;bottom: 0;left: 50%;}#sk-922940fa-a55e-4055-928c-9cc1e3f08fbc div.sk-serial {display: flex;flex-direction: column;align-items: center;background-color: white;}#sk-922940fa-a55e-4055-928c-9cc1e3f08fbc div.sk-item {z-index: 1;}#sk-922940fa-a55e-4055-928c-9cc1e3f08fbc div.sk-parallel {display: flex;align-items: stretch;justify-content: center;background-color: white;}#sk-922940fa-a55e-4055-928c-9cc1e3f08fbc div.sk-parallel-item {display: flex;flex-direction: column;position: relative;background-color: white;}#sk-922940fa-a55e-4055-928c-9cc1e3f08fbc div.sk-parallel-item:first-child::after {align-self: flex-end;width: 50%;}#sk-922940fa-a55e-4055-928c-9cc1e3f08fbc div.sk-parallel-item:last-child::after {align-self: flex-start;width: 50%;}#sk-922940fa-a55e-4055-928c-9cc1e3f08fbc div.sk-parallel-item:only-child::after {width: 0;}#sk-922940fa-a55e-4055-928c-9cc1e3f08fbc div.sk-dashed-wrapped {border: 1px dashed gray;margin: 0.2em;box-sizing: border-box;padding-bottom: 0.1em;background-color: white;position: relative;}#sk-922940fa-a55e-4055-928c-9cc1e3f08fbc div.sk-label label {font-family: monospace;font-weight: bold;background-color: white;display: inline-block;line-height: 1.2em;}#sk-922940fa-a55e-4055-928c-9cc1e3f08fbc div.sk-label-container {position: relative;z-index: 2;text-align: center;}#sk-922940fa-a55e-4055-928c-9cc1e3f08fbc div.sk-container {display: inline-block;position: relative;}</style><div id=\"sk-922940fa-a55e-4055-928c-9cc1e3f08fbc\" class\"sk-top-container\"><div class=\"sk-container\"><div class=\"sk-item sk-dashed-wrapped\"><div class=\"sk-label-container\"><div class=\"sk-label sk-toggleable\"><input class=\"sk-toggleable__control sk-hidden--visually\" id=\"5797f248-fa30-4b77-b6a9-845bc21e75dd\" type=\"checkbox\" ><label class=\"sk-toggleable__label\" for=\"5797f248-fa30-4b77-b6a9-845bc21e75dd\">Pipeline</label><div class=\"sk-toggleable__content\"><pre>Pipeline(steps=[('extractfeatures', PreprocessAndFeaturesExtract()),\n",
       "                ('DecisionTree',\n",
       "                 DecisionTreeClassifier(ccp_alpha=0.0626042890416388,\n",
       "                                        criterion='entropy'))])</pre></div></div></div><div class=\"sk-serial\"><div class=\"sk-item\"><div class=\"sk-estimator sk-toggleable\"><input class=\"sk-toggleable__control sk-hidden--visually\" id=\"7fce365c-367b-4d44-868c-9ea7d1658ad2\" type=\"checkbox\" ><label class=\"sk-toggleable__label\" for=\"7fce365c-367b-4d44-868c-9ea7d1658ad2\">PreprocessAndFeaturesExtract</label><div class=\"sk-toggleable__content\"><pre>PreprocessAndFeaturesExtract()</pre></div></div></div><div class=\"sk-item\"><div class=\"sk-estimator sk-toggleable\"><input class=\"sk-toggleable__control sk-hidden--visually\" id=\"cbb8415c-2dc6-4bcf-8dd5-706a42314cbf\" type=\"checkbox\" ><label class=\"sk-toggleable__label\" for=\"cbb8415c-2dc6-4bcf-8dd5-706a42314cbf\">DecisionTreeClassifier</label><div class=\"sk-toggleable__content\"><pre>DecisionTreeClassifier(ccp_alpha=0.0626042890416388, criterion='entropy')</pre></div></div></div></div></div></div></div>"
      ],
      "text/plain": [
       "Pipeline(steps=[('extractfeatures', PreprocessAndFeaturesExtract()),\n",
       "                ('DecisionTree',\n",
       "                 DecisionTreeClassifier(ccp_alpha=0.0626042890416388,\n",
       "                                        criterion='entropy'))])"
      ]
     },
     "execution_count": 25,
     "metadata": {},
     "output_type": "execute_result"
    }
   ],
   "source": [
    "dtcPipeline.set_params(DecisionTree__ccp_alpha = best_ccp_alpha)\n",
    "dtcPipeline.fit(X_df,Y_sr)"
   ]
  }
 ],
 "metadata": {
  "colab": {
   "collapsed_sections": [],
   "name": "P03 - Fake news detection",
   "provenance": []
  },
  "kernelspec": {
   "display_name": "Python 3 (ipykernel)",
   "language": "python",
   "name": "python3"
  },
  "language_info": {
   "codemirror_mode": {
    "name": "ipython",
    "version": 3
   },
   "file_extension": ".py",
   "mimetype": "text/x-python",
   "name": "python",
   "nbconvert_exporter": "python",
   "pygments_lexer": "ipython3",
   "version": "3.8.8"
  }
 },
 "nbformat": 4,
 "nbformat_minor": 1
}
