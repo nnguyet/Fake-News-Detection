{
 "cells": [
  {
   "cell_type": "markdown",
   "id": "14501e03",
   "metadata": {},
   "source": [
    "# Một cách tiếp cận sử dụng LSTM\n",
    "\n",
    "Xem phần phân tích cụ thể và tiền xử lí trong file PJ3.ipynb\n",
    "\n",
    "## 1. Đọc dữ liệu"
   ]
  },
  {
   "cell_type": "code",
   "execution_count": 1,
   "id": "8fd29f32",
   "metadata": {},
   "outputs": [
    {
     "name": "stderr",
     "output_type": "stream",
     "text": [
      "c:\\Users\\Nam\\miniconda3\\envs\\torch-coding\\lib\\site-packages\\tqdm\\auto.py:21: TqdmWarning: IProgress not found. Please update jupyter and ipywidgets. See https://ipywidgets.readthedocs.io/en/stable/user_install.html\n",
      "  from .autonotebook import tqdm as notebook_tqdm\n"
     ]
    }
   ],
   "source": [
    "import numpy as np\n",
    "import pandas as pd\n",
    "import matplotlib.pyplot as plt\n",
    "import re\n",
    "from collections import Counter\n",
    "from sklearn.model_selection import train_test_split\n",
    "import time\n",
    "\n",
    "import torch\n",
    "import torch.nn as nn \n",
    "from torchinfo import summary\n",
    "from torch.utils.data import TensorDataset, DataLoader"
   ]
  },
  {
   "cell_type": "code",
   "execution_count": 2,
   "id": "52a462cc",
   "metadata": {},
   "outputs": [
    {
     "data": {
      "text/html": [
       "<div>\n",
       "<style scoped>\n",
       "    .dataframe tbody tr th:only-of-type {\n",
       "        vertical-align: middle;\n",
       "    }\n",
       "\n",
       "    .dataframe tbody tr th {\n",
       "        vertical-align: top;\n",
       "    }\n",
       "\n",
       "    .dataframe thead th {\n",
       "        text-align: right;\n",
       "    }\n",
       "</style>\n",
       "<table border=\"1\" class=\"dataframe\">\n",
       "  <thead>\n",
       "    <tr style=\"text-align: right;\">\n",
       "      <th></th>\n",
       "      <th>text</th>\n",
       "      <th>label</th>\n",
       "    </tr>\n",
       "  </thead>\n",
       "  <tbody>\n",
       "    <tr>\n",
       "      <th>0</th>\n",
       "      <td>Thủ tướng Abe cúi đầu xin lỗi vì hành động phi...</td>\n",
       "      <td>1</td>\n",
       "    </tr>\n",
       "    <tr>\n",
       "      <th>1</th>\n",
       "      <td>Thủ tướng Nhật cúi đầu xin lỗi vì tinh thần ph...</td>\n",
       "      <td>1</td>\n",
       "    </tr>\n",
       "    <tr>\n",
       "      <th>2</th>\n",
       "      <td>Choáng! Cơ trưởng đeo khăn quàng quẩy banh nóc...</td>\n",
       "      <td>1</td>\n",
       "    </tr>\n",
       "    <tr>\n",
       "      <th>3</th>\n",
       "      <td>Chưa bao giờ nhạc Kpop lại dễ hát đến thế!!!\\r...</td>\n",
       "      <td>1</td>\n",
       "    </tr>\n",
       "    <tr>\n",
       "      <th>4</th>\n",
       "      <td>Đại học Hutech sẽ áp dụng cải cách \"Tiếq Việt\"...</td>\n",
       "      <td>1</td>\n",
       "    </tr>\n",
       "    <tr>\n",
       "      <th>...</th>\n",
       "      <td>...</td>\n",
       "      <td>...</td>\n",
       "    </tr>\n",
       "    <tr>\n",
       "      <th>218</th>\n",
       "      <td>“Siêu máy bay” A350 sẽ chở CĐV Việt Nam đi Mal...</td>\n",
       "      <td>0</td>\n",
       "    </tr>\n",
       "    <tr>\n",
       "      <th>219</th>\n",
       "      <td>Thưởng 20.000 USD cho đội tuyển cờ vua Việt Na...</td>\n",
       "      <td>0</td>\n",
       "    </tr>\n",
       "    <tr>\n",
       "      <th>220</th>\n",
       "      <td>Trường Sơn giành HCV tại giải cờ vua đồng đội ...</td>\n",
       "      <td>0</td>\n",
       "    </tr>\n",
       "    <tr>\n",
       "      <th>221</th>\n",
       "      <td>Chuyện về chàng sinh viên Luật - Kiện tướng Lê...</td>\n",
       "      <td>0</td>\n",
       "    </tr>\n",
       "    <tr>\n",
       "      <th>222</th>\n",
       "      <td>Tiền đạo Malaysia: “Tôi đã có cách vượt qua hà...</td>\n",
       "      <td>0</td>\n",
       "    </tr>\n",
       "  </tbody>\n",
       "</table>\n",
       "<p>223 rows × 2 columns</p>\n",
       "</div>"
      ],
      "text/plain": [
       "                                                  text  label\n",
       "0    Thủ tướng Abe cúi đầu xin lỗi vì hành động phi...      1\n",
       "1    Thủ tướng Nhật cúi đầu xin lỗi vì tinh thần ph...      1\n",
       "2    Choáng! Cơ trưởng đeo khăn quàng quẩy banh nóc...      1\n",
       "3    Chưa bao giờ nhạc Kpop lại dễ hát đến thế!!!\\r...      1\n",
       "4    Đại học Hutech sẽ áp dụng cải cách \"Tiếq Việt\"...      1\n",
       "..                                                 ...    ...\n",
       "218  “Siêu máy bay” A350 sẽ chở CĐV Việt Nam đi Mal...      0\n",
       "219  Thưởng 20.000 USD cho đội tuyển cờ vua Việt Na...      0\n",
       "220  Trường Sơn giành HCV tại giải cờ vua đồng đội ...      0\n",
       "221  Chuyện về chàng sinh viên Luật - Kiện tướng Lê...      0\n",
       "222  Tiền đạo Malaysia: “Tôi đã có cách vượt qua hà...      0\n",
       "\n",
       "[223 rows x 2 columns]"
      ]
     },
     "execution_count": 2,
     "metadata": {},
     "output_type": "execute_result"
    }
   ],
   "source": [
    "df = pd.read_csv('./data/vn_news_223_tdlfr.csv')\n",
    "df.drop(columns=['domain'],inplace=True)\n",
    "df"
   ]
  },
  {
   "cell_type": "code",
   "execution_count": 3,
   "id": "f02c40f3",
   "metadata": {},
   "outputs": [
    {
     "data": {
      "image/png": "[encoded data removed]",
      "text/plain": [
       "<Figure size 640x480 with 1 Axes>"
      ]
     },
     "metadata": {},
     "output_type": "display_data"
    }
   ],
   "source": [
    "df.label.value_counts().plot(kind='pie', autopct='%.2f');"
   ]
  },
  {
   "cell_type": "markdown",
   "id": "ea2cd182",
   "metadata": {},
   "source": [
    "## Tiền xử lí\n",
    "\n",
    "Vì dữ liệu nhỏ nên sẽ không có tập val"
   ]
  },
  {
   "cell_type": "code",
   "execution_count": 4,
   "id": "a11dadac",
   "metadata": {},
   "outputs": [],
   "source": [
    "X_df = df.drop('label', axis=1)\n",
    "y_df = df['label']\n",
    "x_train, x_test, y_train, y_test = train_test_split(X_df, \n",
    "                                                    y_df, \n",
    "                                                    test_size=0.2,\n",
    "                                                    stratify = y_df, \n",
    "                                                    random_state=42)"
   ]
  },
  {
   "cell_type": "code",
   "execution_count": 5,
   "id": "98da05b0",
   "metadata": {},
   "outputs": [],
   "source": [
    "def preprocess(s):\n",
    "    s = re.sub(r'(https?:\\/\\/)?([\\da-z\\.-]+)\\.([a-z\\.]{2,6})', '', s)\n",
    "    s = re.sub(r'[^\\w\\s]',' ', s)\n",
    "    s = re.sub(r'\\d', ' ', s)\n",
    "    s = re.sub(r'\\s+', ' ',s)\n",
    "    return s"
   ]
  },
  {
   "cell_type": "code",
   "execution_count": 6,
   "id": "0b7a46d1",
   "metadata": {},
   "outputs": [],
   "source": [
    "with open('stopwords/vietnamese-stopwords.txt',encoding='utf-8') as f:\n",
    "    stopwords = f.readlines()\n",
    "    stopwords = [word.rstrip() for word in stopwords]"
   ]
  },
  {
   "cell_type": "markdown",
   "id": "a325f54f",
   "metadata": {},
   "source": [
    "Tokenize các văn bản và padding. Chiều dài tối đa là 1000"
   ]
  },
  {
   "cell_type": "code",
   "execution_count": 7,
   "id": "0f65c73d",
   "metadata": {},
   "outputs": [],
   "source": [
    "def tokenizer(x_train, y_train, x_val, y_val, stop_words):\n",
    "    word_list = list()\n",
    "    for sequence in x_train:\n",
    "        for word in sequence.lower().split():\n",
    "            word = preprocess(word)\n",
    "            if word not in stop_words and word !='':\n",
    "                word_list.append(word)\n",
    "    \n",
    "    corpus = Counter(word_list)\n",
    "    corpus_ = sorted(corpus, key=corpus.get, reverse=True)#[:1000]\n",
    "    onehot_dict = {w:i+1 for i,w in enumerate(corpus_)}\n",
    "    \n",
    "    final_list_train, final_list_test = list(), list()\n",
    "    for sequence in x_train:\n",
    "        final_list_train.append([onehot_dict[preprocess(word)] for word in sequence.lower().split()\n",
    "                                if preprocess(word) in onehot_dict.keys()])\n",
    "    for sequence in x_val:\n",
    "        final_list_test.append([onehot_dict[preprocess(word)] for word in sequence.lower().split()\n",
    "                              if preprocess(word) in onehot_dict.keys()])\n",
    "    return (np.array(final_list_train, dtype='object'), \n",
    "            np.array(y_train), \n",
    "            np.array(final_list_test, dtype='object'), \n",
    "            np.array(y_val), \n",
    "            onehot_dict)"
   ]
  },
  {
   "cell_type": "code",
   "execution_count": 8,
   "id": "f0e00e2d",
   "metadata": {},
   "outputs": [],
   "source": [
    "x_train, y_train, x_test, y_test, vocab = tokenizer(x_train.text.to_list(), \n",
    "                                             y_train, \n",
    "                                             x_test.text.to_list(), \n",
    "                                             y_test, \n",
    "                                             stopwords)"
   ]
  },
  {
   "cell_type": "code",
   "execution_count": 9,
   "id": "97c5e0d6",
   "metadata": {},
   "outputs": [
    {
     "name": "stdout",
     "output_type": "stream",
     "text": [
      "Length of vocab: 5704\n"
     ]
    }
   ],
   "source": [
    "print(f'Length of vocab: {len(vocab)}')"
   ]
  },
  {
   "cell_type": "code",
   "execution_count": 10,
   "id": "f7cd1377",
   "metadata": {},
   "outputs": [
    {
     "data": {
      "image/png": "[encoded data removed]",
      "text/plain": [
       "<Figure size 640x480 with 1 Axes>"
      ]
     },
     "metadata": {},
     "output_type": "display_data"
    },
    {
     "data": {
      "text/plain": [
       "count     178.000000\n",
       "mean      335.516854\n",
       "std       233.938937\n",
       "min        36.000000\n",
       "25%       162.500000\n",
       "50%       257.500000\n",
       "75%       424.000000\n",
       "max      1254.000000\n",
       "dtype: float64"
      ]
     },
     "execution_count": 10,
     "metadata": {},
     "output_type": "execute_result"
    }
   ],
   "source": [
    "rev_len = [len(i) for i in x_train]\n",
    "pd.Series(rev_len).hist()\n",
    "plt.show()\n",
    "pd.Series(rev_len).describe()"
   ]
  },
  {
   "cell_type": "code",
   "execution_count": 11,
   "id": "13c55a8b",
   "metadata": {},
   "outputs": [],
   "source": [
    "MAX_LEN = 1000\n",
    "BATCH_SIZE = 32\n",
    "n_layers = 2\n",
    "vocab_size = len(vocab) + 1\n",
    "output_dims = 1\n",
    "hidden_dims = 64\n",
    "embedding_dims = 64"
   ]
  },
  {
   "cell_type": "code",
   "execution_count": 12,
   "id": "7e5de4ae",
   "metadata": {},
   "outputs": [],
   "source": [
    "def padding(X, max_len):\n",
    "    features = np.zeros((len(X), max_len),dtype=int)\n",
    "    for i, sequence in enumerate(X):\n",
    "        features[i, -len(sequence):] = np.array(sequence)[:max_len]\n",
    "    return features\n",
    "x_train_padding = padding(x_train, MAX_LEN)\n",
    "x_test_padding = padding(x_test, MAX_LEN)"
   ]
  },
  {
   "cell_type": "code",
   "execution_count": 13,
   "id": "b1dbb85d",
   "metadata": {},
   "outputs": [],
   "source": [
    "train_data = TensorDataset(torch.from_numpy(x_train_padding), torch.from_numpy(y_train))\n",
    "test_data = TensorDataset(torch.from_numpy(x_test_padding), torch.from_numpy(y_test))\n",
    "\n",
    "train_dataloader = DataLoader(train_data, batch_size = BATCH_SIZE)\n",
    "test_dataloader = DataLoader(test_data, batch_size = BATCH_SIZE)"
   ]
  },
  {
   "cell_type": "code",
   "execution_count": 14,
   "id": "80c7d355",
   "metadata": {},
   "outputs": [
    {
     "data": {
      "text/plain": [
       "45"
      ]
     },
     "execution_count": 14,
     "metadata": {},
     "output_type": "execute_result"
    }
   ],
   "source": [
    "len(test_dataloader.dataset)"
   ]
  },
  {
   "cell_type": "code",
   "execution_count": 15,
   "id": "3b33d1e9",
   "metadata": {},
   "outputs": [
    {
     "name": "stdout",
     "output_type": "stream",
     "text": [
      "GPU available\n"
     ]
    }
   ],
   "source": [
    "cuda = torch.cuda.is_available()\n",
    "if cuda:\n",
    "    device = torch.device('cuda')\n",
    "    print('GPU available')\n",
    "else:\n",
    "    device = torch.device('cpu')\n",
    "    print('CPU available')"
   ]
  },
  {
   "cell_type": "markdown",
   "id": "e429ad51",
   "metadata": {},
   "source": [
    "## Mô hình LSTM bằng PyTorch"
   ]
  },
  {
   "cell_type": "code",
   "execution_count": 16,
   "id": "e3b66792",
   "metadata": {},
   "outputs": [],
   "source": [
    "class LSTM(nn.Module):\n",
    "    def __init__(self, n_layers, vocab_size, hidden_dims, embedding_dims, dropout_rate = 0.5):\n",
    "        super(LSTM, self).__init__()\n",
    "        self.output_dims = output_dims\n",
    "        self.hidden_dims = hidden_dims\n",
    "        self.n_layers = n_layers\n",
    "        self.vocab_size = vocab_size\n",
    "        \n",
    "        self.embedding = nn.Embedding(self.vocab_size, embedding_dims)\n",
    "        self.lstm = nn.LSTM(input_size = embedding_dims,\n",
    "                           hidden_size = self.hidden_dims,\n",
    "                           num_layers = self.n_layers,\n",
    "                           batch_first = True)\n",
    "        self.dropout = nn.Dropout(dropout_rate)\n",
    "        self.fc = nn.Linear(self.hidden_dims, self.output_dims)\n",
    "        self.sigmoid = nn.Sigmoid()\n",
    "        \n",
    "    def forward(self, x):\n",
    "        batch_size = x.size(0)\n",
    "        embedding = self.embedding(x)\n",
    "        lstm_out, hidden_state = self.lstm(embedding)\n",
    "        lstm_out = lstm_out.contiguous().view(-1, self.hidden_dims)\n",
    "        out = self.dropout(lstm_out)\n",
    "        out = self.fc(out)\n",
    "        out = self.sigmoid(out)\n",
    "        out = out.view(batch_size, -1)\n",
    "        out = out[:, -1]\n",
    "        return out, hidden_state\n",
    "    \n",
    "    def init_hidden(self, batch_size):\n",
    "        h0 = torch.zeros((self.n_layers, batch_size, self.hidden_dims)).to(device)\n",
    "        c0 = torch.zeros((self.n_layers, batch_size, self.hidden_dims)).to(device)\n",
    "        return (h0, c0)"
   ]
  },
  {
   "cell_type": "code",
   "execution_count": 17,
   "id": "873c6dbb",
   "metadata": {},
   "outputs": [
    {
     "data": {
      "text/plain": [
       "LSTM(\n",
       "  (embedding): Embedding(5705, 64)\n",
       "  (lstm): LSTM(64, 64, num_layers=2, batch_first=True)\n",
       "  (dropout): Dropout(p=0.5, inplace=False)\n",
       "  (fc): Linear(in_features=64, out_features=1, bias=True)\n",
       "  (sigmoid): Sigmoid()\n",
       ")"
      ]
     },
     "execution_count": 17,
     "metadata": {},
     "output_type": "execute_result"
    }
   ],
   "source": [
    "model = LSTM(n_layers, vocab_size, hidden_dims, embedding_dims)\n",
    "model.to(device)"
   ]
  },
  {
   "cell_type": "code",
   "execution_count": 18,
   "id": "c265dc40",
   "metadata": {},
   "outputs": [
    {
     "data": {
      "text/plain": [
       "=================================================================\n",
       "Layer (type:depth-idx)                   Param #\n",
       "=================================================================\n",
       "LSTM                                     --\n",
       "├─Embedding: 1-1                         365,120\n",
       "├─LSTM: 1-2                              66,560\n",
       "├─Dropout: 1-3                           --\n",
       "├─Linear: 1-4                            65\n",
       "├─Sigmoid: 1-5                           --\n",
       "=================================================================\n",
       "Total params: 431,745\n",
       "Trainable params: 431,745\n",
       "Non-trainable params: 0\n",
       "================================================================="
      ]
     },
     "execution_count": 18,
     "metadata": {},
     "output_type": "execute_result"
    }
   ],
   "source": [
    "summary(model)"
   ]
  },
  {
   "cell_type": "code",
   "execution_count": 19,
   "id": "e31191f2",
   "metadata": {},
   "outputs": [],
   "source": [
    "learning_rate = 0.001\n",
    "loss_fn = nn.BCELoss()\n",
    "optimizer = torch.optim.Adam(model.parameters(), lr = learning_rate)\n",
    "def accuracy(pred, label):\n",
    "    pred = torch.round(pred.squeeze())\n",
    "    return torch.sum(pred==label.squeeze()).item()"
   ]
  },
  {
   "cell_type": "code",
   "execution_count": 20,
   "id": "0e2fba52",
   "metadata": {
    "scrolled": true
   },
   "outputs": [
    {
     "name": "stdout",
     "output_type": "stream",
     "text": [
      "[INFO] EPOCHS: 1/30\n",
      "Train loss: 0.692817, Test loss: 0.687019\n",
      "Train acc: 0.5449, Test acc: 0.5556\n",
      "\n",
      "[INFO] EPOCHS: 2/30\n",
      "Train loss: 0.687388, Test loss: 0.685260\n",
      "Train acc: 0.5506, Test acc: 0.5556\n",
      "\n",
      "[INFO] EPOCHS: 3/30\n",
      "Train loss: 0.681215, Test loss: 0.683211\n",
      "Train acc: 0.5562, Test acc: 0.5556\n",
      "\n",
      "[INFO] EPOCHS: 4/30\n",
      "Train loss: 0.678689, Test loss: 0.679970\n",
      "Train acc: 0.5506, Test acc: 0.5556\n",
      "\n",
      "[INFO] EPOCHS: 5/30\n",
      "Train loss: 0.667642, Test loss: 0.674256\n",
      "Train acc: 0.5674, Test acc: 0.5556\n",
      "\n",
      "[INFO] EPOCHS: 6/30\n",
      "Train loss: 0.647623, Test loss: 0.662841\n",
      "Train acc: 0.5955, Test acc: 0.5556\n",
      "\n",
      "[INFO] EPOCHS: 7/30\n",
      "Train loss: 0.613051, Test loss: 0.635632\n",
      "Train acc: 0.6348, Test acc: 0.5778\n",
      "\n",
      "[INFO] EPOCHS: 8/30\n",
      "Train loss: 0.559825, Test loss: 0.590961\n",
      "Train acc: 0.7247, Test acc: 0.6222\n",
      "\n",
      "[INFO] EPOCHS: 9/30\n",
      "Train loss: 0.460237, Test loss: 0.527789\n",
      "Train acc: 0.8596, Test acc: 0.7333\n",
      "\n",
      "[INFO] EPOCHS: 10/30\n",
      "Train loss: 0.341116, Test loss: 0.485795\n",
      "Train acc: 0.8933, Test acc: 0.7333\n",
      "\n",
      "[INFO] EPOCHS: 11/30\n",
      "Train loss: 0.234591, Test loss: 0.522263\n",
      "Train acc: 0.9213, Test acc: 0.7111\n",
      "\n",
      "[INFO] EPOCHS: 12/30\n",
      "Train loss: 0.150859, Test loss: 0.552531\n",
      "Train acc: 0.9719, Test acc: 0.7556\n",
      "\n",
      "[INFO] EPOCHS: 13/30\n",
      "Train loss: 0.101506, Test loss: 0.613214\n",
      "Train acc: 0.9775, Test acc: 0.6889\n",
      "\n",
      "[INFO] EPOCHS: 14/30\n",
      "Train loss: 0.071290, Test loss: 0.695157\n",
      "Train acc: 0.9831, Test acc: 0.7333\n",
      "\n",
      "[INFO] EPOCHS: 15/30\n",
      "Train loss: 0.046804, Test loss: 0.802009\n",
      "Train acc: 0.9944, Test acc: 0.7333\n",
      "\n",
      "[INFO] EPOCHS: 16/30\n",
      "Train loss: 0.030237, Test loss: 0.894029\n",
      "Train acc: 0.9944, Test acc: 0.7333\n",
      "\n",
      "[INFO] EPOCHS: 17/30\n",
      "Train loss: 0.026053, Test loss: 1.016880\n",
      "Train acc: 0.9944, Test acc: 0.6889\n",
      "\n",
      "[INFO] EPOCHS: 18/30\n",
      "Train loss: 0.012774, Test loss: 1.072702\n",
      "Train acc: 1.0000, Test acc: 0.6889\n",
      "\n",
      "[INFO] EPOCHS: 19/30\n",
      "Train loss: 0.009195, Test loss: 1.111661\n",
      "Train acc: 1.0000, Test acc: 0.7556\n",
      "\n",
      "[INFO] EPOCHS: 20/30\n",
      "Train loss: 0.007464, Test loss: 1.143382\n",
      "Train acc: 1.0000, Test acc: 0.7556\n",
      "\n",
      "[INFO] EPOCHS: 21/30\n",
      "Train loss: 0.006376, Test loss: 1.186262\n",
      "Train acc: 1.0000, Test acc: 0.7556\n",
      "\n",
      "[INFO] EPOCHS: 22/30\n",
      "Train loss: 0.005808, Test loss: 1.238113\n",
      "Train acc: 1.0000, Test acc: 0.7556\n",
      "\n",
      "[INFO] EPOCHS: 23/30\n",
      "Train loss: 0.004599, Test loss: 1.286820\n",
      "Train acc: 1.0000, Test acc: 0.6889\n",
      "\n",
      "[INFO] EPOCHS: 24/30\n",
      "Train loss: 0.004292, Test loss: 1.314552\n",
      "Train acc: 1.0000, Test acc: 0.7111\n",
      "\n",
      "[INFO] EPOCHS: 25/30\n",
      "Train loss: 0.004239, Test loss: 1.333939\n",
      "Train acc: 1.0000, Test acc: 0.7111\n",
      "\n",
      "[INFO] EPOCHS: 26/30\n",
      "Train loss: 0.003824, Test loss: 1.357152\n",
      "Train acc: 1.0000, Test acc: 0.7111\n",
      "\n",
      "[INFO] EPOCHS: 27/30\n",
      "Train loss: 0.003084, Test loss: 1.380290\n",
      "Train acc: 1.0000, Test acc: 0.7111\n",
      "\n",
      "[INFO] EPOCHS: 28/30\n",
      "Train loss: 0.003428, Test loss: 1.395033\n",
      "Train acc: 1.0000, Test acc: 0.7111\n",
      "\n",
      "[INFO] EPOCHS: 29/30\n",
      "Train loss: 0.003352, Test loss: 1.405025\n",
      "Train acc: 1.0000, Test acc: 0.7111\n",
      "\n",
      "[INFO] EPOCHS: 30/30\n",
      "Train loss: 0.003015, Test loss: 1.423491\n",
      "Train acc: 1.0000, Test acc: 0.7333\n",
      "\n",
      "[INFO] total time taken to train the model: 5.34s\n"
     ]
    }
   ],
   "source": [
    "clip = 5\n",
    "EPOCHS = 30\n",
    "valid_loss_min = np.Inf\n",
    "\n",
    "history = {\n",
    "    'train_loss': [],\n",
    "    'test_loss': [],\n",
    "    'train_acc': [],\n",
    "    'test_acc': []\n",
    "}\n",
    "train_step = len(train_dataloader.dataset) // BATCH_SIZE\n",
    "test_step = len(test_dataloader.dataset) // BATCH_SIZE\n",
    "\n",
    "start_time = time.time()\n",
    "for epoch in range(EPOCHS):\n",
    "    train_loss = list()\n",
    "    train_acc = 0\n",
    "    model.train()\n",
    "    hidden_state = model.init_hidden(BATCH_SIZE)\n",
    "    for inputs, labels in train_dataloader:\n",
    "        inputs, labels = inputs.to(device), labels.to(device)\n",
    "        hidden_state = tuple([each.data for each in hidden_state])\n",
    "        # print(inputs.shape, hidden_state)\n",
    "        \n",
    "        model.zero_grad()\n",
    "        output, hidden_state = model(inputs)#, hidden_state)\n",
    "        \n",
    "        loss = loss_fn(output.squeeze(), labels.float())\n",
    "        loss.backward()\n",
    "        \n",
    "        train_loss.append(loss.item())\n",
    "        \n",
    "        acc = accuracy(output, labels)\n",
    "        train_acc += acc\n",
    "        \n",
    "        nn.utils.clip_grad_norm_(model.parameters(), clip)\n",
    "        optimizer.step()\n",
    "        \n",
    "    test_h = model.init_hidden(BATCH_SIZE)\n",
    "    test_loss = list()\n",
    "    test_acc = 0\n",
    "    with torch.no_grad():\n",
    "        model.eval()\n",
    "        for inputs, labels in test_dataloader:\n",
    "            test_h = tuple([each.data for each in test_h])\n",
    "\n",
    "            inputs, labels = inputs.to(device), labels.to(device)\n",
    "            output, test_h = model(inputs)\n",
    "\n",
    "            loss = loss_fn(output.squeeze(), labels.float())\n",
    "            test_loss.append(loss.item())\n",
    "\n",
    "            acc = accuracy(output, labels)\n",
    "            test_acc += acc\n",
    "    \n",
    "    epoch_train_loss = np.mean(train_loss)\n",
    "    epoch_test_loss = np.mean(test_loss)\n",
    "    epoch_train_acc = train_acc/len(train_dataloader.dataset)#(train_step * BATCH_SIZE)\n",
    "    epoch_test_acc = test_acc/len(test_dataloader.dataset)#(test_step * BATCH_SIZE)\n",
    "    history['train_loss'].append(epoch_train_loss)\n",
    "    history['test_loss'].append(epoch_test_loss)\n",
    "    history['train_acc'].append(epoch_train_acc)\n",
    "    history['test_acc'].append(epoch_test_acc)\n",
    "    \n",
    "    print(f'[INFO] EPOCHS: {epoch + 1}/{EPOCHS}')\n",
    "    print('Train loss: {:.6f}, Test loss: {:.6f}'.format(epoch_train_loss,epoch_test_loss))\n",
    "    print('Train acc: {:.4f}, Test acc: {:.4f}\\n'.format(epoch_train_acc,epoch_test_acc))    \n",
    "\n",
    "end_time = time.time()\n",
    "print('[INFO] total time taken to train the model: {:.2f}s'.format(end_time - start_time))"
   ]
  },
  {
   "cell_type": "code",
   "execution_count": 21,
   "id": "0eaf3cd9",
   "metadata": {},
   "outputs": [
    {
     "data": {
      "image/png": "[encoded data removed]",
      "text/plain": [
       "<Figure size 640x480 with 1 Axes>"
      ]
     },
     "metadata": {},
     "output_type": "display_data"
    }
   ],
   "source": [
    "plt.style.use(\"ggplot\")\n",
    "plt.figure()\n",
    "plt.plot(history[\"train_loss\"], label=\"train_loss\")\n",
    "plt.plot(history[\"test_loss\"], label=\"test_loss\")\n",
    "plt.plot(history[\"train_acc\"], label=\"train_acc\")\n",
    "plt.plot(history[\"test_acc\"], label=\"test_acc\")\n",
    "plt.title(\"Training Loss and Accuracy on Dataset\")\n",
    "plt.xlabel(\"Epoch #\")\n",
    "plt.ylabel(\"Loss/Accuracy\")\n",
    "plt.legend(loc=\"lower left\");"
   ]
  },
  {
   "cell_type": "code",
   "execution_count": 22,
   "id": "e8e9bf1b",
   "metadata": {},
   "outputs": [],
   "source": [
    "def predict_text(text):\n",
    "        word_seq = np.array([vocab[preprocess(word)] for word in text.split() \n",
    "                         if preprocess(word) in vocab.keys()])\n",
    "        word_seq = np.expand_dims(word_seq,axis=0)\n",
    "        pad = torch.from_numpy(padding(word_seq,500))\n",
    "        inputs = pad.to(device)\n",
    "        batch_size = 1\n",
    "        h = model.init_hidden(batch_size)\n",
    "        h = tuple([each.data for each in h])\n",
    "        output, h = model(inputs)\n",
    "        return(output.item())"
   ]
  },
  {
   "cell_type": "code",
   "execution_count": 23,
   "id": "82c80aed",
   "metadata": {},
   "outputs": [
    {
     "name": "stdout",
     "output_type": "stream",
     "text": [
      "Predict:  0.9971569776535034\n",
      "Actual:  1\n"
     ]
    }
   ],
   "source": [
    "i = 0\n",
    "print('Predict: ',predict_text(df.text[i]))\n",
    "print('Actual: ',df.label[i])"
   ]
  },
  {
   "cell_type": "markdown",
   "id": "940a5991",
   "metadata": {},
   "source": [
    "Mô hình bị overfitting???"
   ]
  }
 ],
 "metadata": {
  "kernelspec": {
   "display_name": "torch-coding",
   "language": "python",
   "name": "python3"
  },
  "language_info": {
   "codemirror_mode": {
    "name": "ipython",
    "version": 3
   },
   "file_extension": ".py",
   "mimetype": "text/x-python",
   "name": "python",
   "nbconvert_exporter": "python",
   "pygments_lexer": "ipython3",
   "version": "3.8.8"
  },
  "vscode": {
   "interpreter": {
    "hash": "f32163b82a662581a3dafce2f6a41641fba0985df67d8841d2528a4e8787a7b6"
   }
  }
 },
 "nbformat": 4,
 "nbformat_minor": 5
}
